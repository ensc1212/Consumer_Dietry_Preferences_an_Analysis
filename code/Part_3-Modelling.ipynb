{
 "cells": [
  {
   "cell_type": "markdown",
   "id": "4a2a0b34",
   "metadata": {},
   "source": [
    "<img src=\"http://imgur.com/1ZcRyrc.png\" style=\"float: left; margin: 20px; height: 55px\">\n",
    "\n",
    "# DSI 37 Project 3"
   ]
  },
  {
   "cell_type": "markdown",
   "id": "96815209",
   "metadata": {},
   "source": [
    "<a id='part_iii'></a>\n",
    "[Part I](Part_1-Reddit_API_access_and_scraping.ipynb#part_i) <br>\n",
    "[Part II](Part_2-Cleaning_and_EDA.ipynb#part_ii)"
   ]
  },
  {
   "cell_type": "markdown",
   "id": "3f8e454f",
   "metadata": {},
   "source": [
    "# Part III: Modelling"
   ]
  },
  {
   "cell_type": "markdown",
   "id": "688accf1",
   "metadata": {},
   "source": [
    "<a id='part_iii'></a>"
   ]
  },
  {
   "cell_type": "markdown",
   "id": "3829f964",
   "metadata": {},
   "source": [
    "## Contents\n",
    "\n",
    "[1. Imports (Libraries)](#imports)<br>\n",
    "[2. Imports (Data)](#data_imports)<br>\n",
    "[3. Train-Test-Split](#train_test_split)<br>\n",
    "[4. Modelling](#modelling)<br>\n",
    "[5. Insights](#insights)<br>\n",
    "[6. Business Recommendations](#biz_rec)<br>\n",
    "[7. Conclusion](#conclusion)<br>\n",
    "\n"
   ]
  },
  {
   "cell_type": "markdown",
   "id": "9a31a06d",
   "metadata": {},
   "source": [
    "## 1. Imports (Libraries)"
   ]
  },
  {
   "cell_type": "markdown",
   "id": "acec9113",
   "metadata": {},
   "source": [
    "<a id='imports'></a>"
   ]
  },
  {
   "cell_type": "code",
   "execution_count": 1,
   "id": "29d09a2a",
   "metadata": {},
   "outputs": [],
   "source": [
    "# Import basic libraries\n",
    "import pandas as pd\n",
    "import numpy as np"
   ]
  },
  {
   "cell_type": "code",
   "execution_count": 2,
   "id": "9330d457",
   "metadata": {},
   "outputs": [],
   "source": [
    "# Import visualisation libraries\n",
    "import matplotlib.pyplot as plt\n",
    "import seaborn as sns"
   ]
  },
  {
   "cell_type": "code",
   "execution_count": 3,
   "id": "735f845f",
   "metadata": {},
   "outputs": [],
   "source": [
    "# Import NLP libraries\n",
    "import re\n",
    "import string\n",
    "import nltk\n",
    "from nltk.tokenize import sent_tokenize, word_tokenize, RegexpTokenizer\n",
    "from nltk.stem import WordNetLemmatizer\n",
    "from nltk.stem.porter import PorterStemmer\n",
    "from nltk.corpus import stopwords\n",
    "from nltk.sentiment.vader import SentimentIntensityAnalyzer"
   ]
  },
  {
   "cell_type": "code",
   "execution_count": 4,
   "id": "41890203",
   "metadata": {},
   "outputs": [],
   "source": [
    "from gensim.models import Word2Vec"
   ]
  },
  {
   "cell_type": "code",
   "execution_count": 5,
   "id": "9f1a5f4f",
   "metadata": {},
   "outputs": [],
   "source": [
    "# Import sklearn libraries\n",
    "from sklearn.feature_extraction.text import CountVectorizer, TfidfVectorizer\n",
    "from sklearn.model_selection import train_test_split, GridSearchCV\n",
    "from sklearn.preprocessing import FunctionTransformer\n",
    "from sklearn.pipeline import Pipeline\n",
    "from sklearn.naive_bayes import BernoulliNB, MultinomialNB, GaussianNB\n",
    "from sklearn.linear_model import LogisticRegression\n",
    "from sklearn.neighbors import KNeighborsClassifier\n",
    "from sklearn.metrics import classification_report, confusion_matrix, ConfusionMatrixDisplay, RocCurveDisplay\n",
    "from sklearn.metrics import accuracy_score, recall_score, precision_score, f1_score, roc_auc_score"
   ]
  },
  {
   "cell_type": "code",
   "execution_count": 6,
   "id": "45206534",
   "metadata": {},
   "outputs": [],
   "source": [
    "import shap"
   ]
  },
  {
   "cell_type": "code",
   "execution_count": 7,
   "id": "1924a3b4",
   "metadata": {},
   "outputs": [],
   "source": [
    "# some display adjustments to account for the fact that we have many columns\n",
    "# and some columns contain many characters\n",
    "\n",
    "np.set_printoptions(threshold=np.inf)\n",
    "pd.set_option('display.max_colwidth', 100)\n",
    "pd.set_option('display.max_columns', None)"
   ]
  },
  {
   "cell_type": "markdown",
   "id": "8fa6e1cb",
   "metadata": {},
   "source": [
    "## 2. Imports (Data)"
   ]
  },
  {
   "cell_type": "markdown",
   "id": "dd4c234c",
   "metadata": {},
   "source": [
    "<a id='data_imports'></a>"
   ]
  },
  {
   "cell_type": "markdown",
   "id": "099aa819",
   "metadata": {},
   "source": [
    "Since we exported the cleaned dataset as a csv file in Part II, we can simply import that file and start working on it immediately. The two columns we are most concerned with are 'redditlabel' and 'text_lemma'.\n",
    "\n",
    "Data dictionary:\n",
    "\n",
    "|column| datatype|explanation|\n",
    "|:-|:-:|:-|\n",
    "|<b>redditlabel</b>|*integer*| The numeric boolean representation of our two classes. 0 means Keto and 1 means Paleo.|\n",
    "|<b>title</b>| *string*| The subject title of the Reddit post.|\n",
    "|<b>selftext</b>| *string*| The content of the Reddit post.|\n",
    "|<b>titletext</b>| *string*| The combined text from 'title' and 'selftext'.|\n",
    "|<b>text_clean</b>| *string*| The text from 'titletext'  in lowercase and with the punctuation removed.|\n",
    "|<b>char_count</b>| *integer*| The number of characters in 'text_clean' (including spaces).|\n",
    "|<b>word_count</b>| *integer*| The number of words in 'text_clean' (not including spaces).|\n",
    "|<b>text_lemma</b>| *string*| The lemmatized text from 'text_clean'.|\n",
    "\n",
    "<br>"
   ]
  },
  {
   "cell_type": "code",
   "execution_count": 8,
   "id": "b07b7857",
   "metadata": {},
   "outputs": [],
   "source": [
    "kp_df = pd.read_csv('../data/combined.csv', lineterminator='\\n')"
   ]
  },
  {
   "cell_type": "code",
   "execution_count": 9,
   "id": "0f9be1c8",
   "metadata": {},
   "outputs": [
    {
     "data": {
      "text/plain": [
       "(1905, 8)"
      ]
     },
     "execution_count": 9,
     "metadata": {},
     "output_type": "execute_result"
    }
   ],
   "source": [
    "kp_df.shape"
   ]
  },
  {
   "cell_type": "code",
   "execution_count": 10,
   "id": "9ef8cd87",
   "metadata": {
    "scrolled": true
   },
   "outputs": [
    {
     "data": {
      "text/html": [
       "<div>\n",
       "<style scoped>\n",
       "    .dataframe tbody tr th:only-of-type {\n",
       "        vertical-align: middle;\n",
       "    }\n",
       "\n",
       "    .dataframe tbody tr th {\n",
       "        vertical-align: top;\n",
       "    }\n",
       "\n",
       "    .dataframe thead th {\n",
       "        text-align: right;\n",
       "    }\n",
       "</style>\n",
       "<table border=\"1\" class=\"dataframe\">\n",
       "  <thead>\n",
       "    <tr style=\"text-align: right;\">\n",
       "      <th></th>\n",
       "      <th>redditlabel</th>\n",
       "      <th>title</th>\n",
       "      <th>selftext</th>\n",
       "      <th>titletext</th>\n",
       "      <th>text_clean</th>\n",
       "      <th>char_count</th>\n",
       "      <th>word_count</th>\n",
       "      <th>text_lemma</th>\n",
       "    </tr>\n",
       "  </thead>\n",
       "  <tbody>\n",
       "    <tr>\n",
       "      <th>0</th>\n",
       "      <td>0</td>\n",
       "      <td>Does Keto have benefits without fasting?</td>\n",
       "      <td>I enjoy how I feel when I’m consistent with a Keto style diet, but I don’t enjoy fasting. All th...</td>\n",
       "      <td>Does Keto have benefits without fasting? I enjoy how I feel when I’m consistent with a Keto styl...</td>\n",
       "      <td>does keto have benefits without fasting i enjoy how i feel when i m consistent with a keto style...</td>\n",
       "      <td>972</td>\n",
       "      <td>196</td>\n",
       "      <td>do keto have benefit without fast i enjoy how i feel when i m consistent with a keto style diet ...</td>\n",
       "    </tr>\n",
       "    <tr>\n",
       "      <th>1</th>\n",
       "      <td>0</td>\n",
       "      <td>Lazy keto</td>\n",
       "      <td>Hi all, I'm back on keto after a break and I'm feeling good :) \\n\\nI'm super lazy when it comes ...</td>\n",
       "      <td>Lazy keto Hi all, I'm back on keto after a break and I'm feeling good :) \\n\\nI'm super lazy when...</td>\n",
       "      <td>lazy keto hi all im back on keto after a break and im feeling good    im super lazy when it come...</td>\n",
       "      <td>433</td>\n",
       "      <td>87</td>\n",
       "      <td>lazy keto hi all im back on keto after a break and im feel good im super lazy when it come to ma...</td>\n",
       "    </tr>\n",
       "  </tbody>\n",
       "</table>\n",
       "</div>"
      ],
      "text/plain": [
       "   redditlabel                                     title  \\\n",
       "0            0  Does Keto have benefits without fasting?   \n",
       "1            0                                 Lazy keto   \n",
       "\n",
       "                                                                                              selftext  \\\n",
       "0  I enjoy how I feel when I’m consistent with a Keto style diet, but I don’t enjoy fasting. All th...   \n",
       "1  Hi all, I'm back on keto after a break and I'm feeling good :) \\n\\nI'm super lazy when it comes ...   \n",
       "\n",
       "                                                                                             titletext  \\\n",
       "0  Does Keto have benefits without fasting? I enjoy how I feel when I’m consistent with a Keto styl...   \n",
       "1  Lazy keto Hi all, I'm back on keto after a break and I'm feeling good :) \\n\\nI'm super lazy when...   \n",
       "\n",
       "                                                                                            text_clean  \\\n",
       "0  does keto have benefits without fasting i enjoy how i feel when i m consistent with a keto style...   \n",
       "1  lazy keto hi all im back on keto after a break and im feeling good    im super lazy when it come...   \n",
       "\n",
       "   char_count  word_count  \\\n",
       "0         972         196   \n",
       "1         433          87   \n",
       "\n",
       "                                                                                            text_lemma  \n",
       "0  do keto have benefit without fast i enjoy how i feel when i m consistent with a keto style diet ...  \n",
       "1  lazy keto hi all im back on keto after a break and im feel good im super lazy when it come to ma...  "
      ]
     },
     "execution_count": 10,
     "metadata": {},
     "output_type": "execute_result"
    }
   ],
   "source": [
    "kp_df.head(2)"
   ]
  },
  {
   "cell_type": "markdown",
   "id": "f1064c3a",
   "metadata": {},
   "source": [
    "## 3. Train-test-split"
   ]
  },
  {
   "cell_type": "markdown",
   "id": "bf31c0d6",
   "metadata": {},
   "source": [
    "<a id='train_test_split'></a>"
   ]
  },
  {
   "cell_type": "markdown",
   "id": "fc44573f",
   "metadata": {},
   "source": [
    "We did all our modelling using the same train-test-split through the use of pipelines. "
   ]
  },
  {
   "cell_type": "code",
   "execution_count": 11,
   "id": "0e79e600",
   "metadata": {
    "scrolled": false
   },
   "outputs": [
    {
     "data": {
      "text/html": [
       "<div>\n",
       "<style scoped>\n",
       "    .dataframe tbody tr th:only-of-type {\n",
       "        vertical-align: middle;\n",
       "    }\n",
       "\n",
       "    .dataframe tbody tr th {\n",
       "        vertical-align: top;\n",
       "    }\n",
       "\n",
       "    .dataframe thead th {\n",
       "        text-align: right;\n",
       "    }\n",
       "</style>\n",
       "<table border=\"1\" class=\"dataframe\">\n",
       "  <thead>\n",
       "    <tr style=\"text-align: right;\">\n",
       "      <th></th>\n",
       "      <th>Number of Posts</th>\n",
       "      <th>Percent of Posts</th>\n",
       "    </tr>\n",
       "  </thead>\n",
       "  <tbody>\n",
       "    <tr>\n",
       "      <th>Keto</th>\n",
       "      <td>976</td>\n",
       "      <td>51.233596</td>\n",
       "    </tr>\n",
       "    <tr>\n",
       "      <th>Paleo</th>\n",
       "      <td>929</td>\n",
       "      <td>48.766404</td>\n",
       "    </tr>\n",
       "  </tbody>\n",
       "</table>\n",
       "</div>"
      ],
      "text/plain": [
       "       Number of Posts  Percent of Posts\n",
       "Keto               976         51.233596\n",
       "Paleo              929         48.766404"
      ]
     },
     "execution_count": 11,
     "metadata": {},
     "output_type": "execute_result"
    }
   ],
   "source": [
    "# Checking for class imbalance\n",
    "\n",
    "data_df = pd.DataFrame()\n",
    "data_df['Number of Posts'] = kp_df['redditlabel'].value_counts()\n",
    "data_df['Percent of Posts'] = kp_df['redditlabel'].value_counts(normalize=True)*100 \n",
    "data_df.index = ['Keto', 'Paleo']\n",
    "\n",
    "data_df"
   ]
  },
  {
   "cell_type": "markdown",
   "id": "847bc51a",
   "metadata": {},
   "source": [
    "The classes are relatively balanced (<5% difference)."
   ]
  },
  {
   "cell_type": "code",
   "execution_count": 12,
   "id": "70879b38",
   "metadata": {},
   "outputs": [],
   "source": [
    "stopwords = nltk.corpus.stopwords.words('english')\n",
    "extrawords = ['pinned','top','subreddit','ask','question','ha','beginner','hello',\n",
    "              'talk','wa','also','ive','im','use','community', 'want','would','think','really', 'nutshell', 'utshell', 'support','thread']\n",
    "stopwords.extend(extrawords)\n",
    "\n",
    "# function to remove stopwords \n",
    "def remove_stopwords(text):\n",
    "    words = text.split()\n",
    "    filtered_words = [word for word in words if word.lower() not in stopwords]\n",
    "    return ' '.join(filtered_words)\n",
    "\n",
    "# Apply the function to the 'lemma_text' column\n",
    "kp_df['text_lemma'] = kp_df['text_lemma'].apply(remove_stopwords)"
   ]
  },
  {
   "cell_type": "code",
   "execution_count": 13,
   "id": "f25d5760",
   "metadata": {},
   "outputs": [],
   "source": [
    "# Defining X and y\n",
    "X = kp_df['text_lemma']\n",
    "y = kp_df['redditlabel']\n"
   ]
  },
  {
   "cell_type": "markdown",
   "id": "1d25ae04",
   "metadata": {},
   "source": [
    "There are no missing labels."
   ]
  },
  {
   "cell_type": "code",
   "execution_count": 14,
   "id": "6f92f757",
   "metadata": {},
   "outputs": [
    {
     "name": "stdout",
     "output_type": "stream",
     "text": [
      "The X train set is 1428 rows long.\n",
      "The y train set is 1428 rows long.\n",
      "The X test set is 477 rows long.\n",
      "The y test set is 477 rows long.\n"
     ]
    }
   ],
   "source": [
    "# Train test split\n",
    "X_train, X_test, y_train, y_test = train_test_split(X,\n",
    "                                                    y,\n",
    "                                                    stratify = y,\n",
    "                                                    random_state=42)\n",
    "\n",
    "print(f'The X train set is {X_train.shape[0]} rows long.')\n",
    "print(f'The y train set is {y_train.shape[0]} rows long.')\n",
    "print(f'The X test set is {X_test.shape[0]} rows long.')\n",
    "print(f'The y test set is {y_test.shape[0]} rows long.')\n"
   ]
  },
  {
   "cell_type": "markdown",
   "id": "ade12a50",
   "metadata": {},
   "source": [
    "## 4. Modelling"
   ]
  },
  {
   "cell_type": "markdown",
   "id": "1a42488b",
   "metadata": {},
   "source": [
    "<a id='modelling'></a>"
   ]
  },
  {
   "cell_type": "markdown",
   "id": "314a69b8",
   "metadata": {},
   "source": [
    "In this section we go through 11 different models. To minimise run time, we have taken our best results from GridSearch and included the original hyperparameter options as comments.\n",
    "\n",
    "The metric we have chosen to use to evaluate our models is the f1 score because for our purposes it is equally important to identify both classes. \n",
    "\n",
    "Here is a sub-chapter contents page for the models we ran:\n",
    "\n",
    "### Contents - Models\n",
    "[Baseline Model - Word2Vec with Logistic Regression](#w2vec_lr)<br><br>\n",
    "\n",
    "[TfidfVectorizer](#tfidf)<br>\n",
    "[Model 1 - TfidfVectorizer with KNNeighbours](#tfidf_knn)<br>\n",
    "[Model 2 - TfidfVectorizer with Bernoulli Naive Bayes](#tfidf_bnb)<br>\n",
    "[Model 3 - TfidfVectorizer with Multinomial Naive Bayes](#tfidf_mnb)<br>\n",
    "[Model 4 - TfidfVectorizer with Gaussian Naive Bayes](#tfidf_gnb)<br>\n",
    "[Model 5 - TfidfVectorizer with Logistic Regression](#tfidf_lr)<br><br>\n",
    "\n",
    "[CountVectorizer](#cv)<br>\n",
    "[Model 6 - CountVectorizer with KNNeighbours](#cv_knn)<br>\n",
    "[Model 7 - CountVectorizer with Bernoulli Naive Bayes](#cv_bnb)<br>\n",
    "[Model 8 - CountVectorizer with Multinomial Naive Bayes](#cv_mnb)<br>\n",
    "[Model 9 - CountVectorizer with Gaussian Naive Bayes](#cv_gnb)<br>\n",
    "[Model 10 - CountVectorizer with Logistic Regression](#cv_lr)<br><br>\n",
    "\n",
    "[Summary](#summary)"
   ]
  },
  {
   "cell_type": "markdown",
   "id": "5cecb065",
   "metadata": {},
   "source": [
    "### Baseline Model - Word2Vec with Logistic Regression"
   ]
  },
  {
   "cell_type": "markdown",
   "id": "75b50ecd",
   "metadata": {},
   "source": [
    "<a id='w2vec_lr'></a>"
   ]
  },
  {
   "cell_type": "code",
   "execution_count": 15,
   "id": "18d29ad7",
   "metadata": {},
   "outputs": [],
   "source": [
    "w2v_model = Word2Vec(X_train.str.split(), vector_size=100, window=5, min_count=2)\n"
   ]
  },
  {
   "cell_type": "code",
   "execution_count": 16,
   "id": "01052109",
   "metadata": {},
   "outputs": [],
   "source": [
    "# create a list to store the average of all word vectors for each row of data\n",
    "row_vect_list = []\n",
    "\n",
    "# Iterate through each row in X train data\n",
    "for row in X_train.str.split():\n",
    "\n",
    "    row_vector = [w2v_model.wv.get_vector(token) for token in row if token in w2v_model.wv]\n",
    "    \n",
    "    if row_vector:\n",
    "        row_vector = np.mean(row_vector, axis=0).tolist()\n",
    "    else:\n",
    "        row_vector = np.zeros(100).tolist()\n",
    "    \n",
    "    row_vect_list.append(row_vector)\n",
    "        \n",
    "word2vec_df = pd.DataFrame(row_vect_list)\n"
   ]
  },
  {
   "cell_type": "code",
   "execution_count": 17,
   "id": "33e60ce8",
   "metadata": {},
   "outputs": [
    {
     "data": {
      "text/html": [
       "<style>#sk-container-id-1 {color: black;background-color: white;}#sk-container-id-1 pre{padding: 0;}#sk-container-id-1 div.sk-toggleable {background-color: white;}#sk-container-id-1 label.sk-toggleable__label {cursor: pointer;display: block;width: 100%;margin-bottom: 0;padding: 0.3em;box-sizing: border-box;text-align: center;}#sk-container-id-1 label.sk-toggleable__label-arrow:before {content: \"▸\";float: left;margin-right: 0.25em;color: #696969;}#sk-container-id-1 label.sk-toggleable__label-arrow:hover:before {color: black;}#sk-container-id-1 div.sk-estimator:hover label.sk-toggleable__label-arrow:before {color: black;}#sk-container-id-1 div.sk-toggleable__content {max-height: 0;max-width: 0;overflow: hidden;text-align: left;background-color: #f0f8ff;}#sk-container-id-1 div.sk-toggleable__content pre {margin: 0.2em;color: black;border-radius: 0.25em;background-color: #f0f8ff;}#sk-container-id-1 input.sk-toggleable__control:checked~div.sk-toggleable__content {max-height: 200px;max-width: 100%;overflow: auto;}#sk-container-id-1 input.sk-toggleable__control:checked~label.sk-toggleable__label-arrow:before {content: \"▾\";}#sk-container-id-1 div.sk-estimator input.sk-toggleable__control:checked~label.sk-toggleable__label {background-color: #d4ebff;}#sk-container-id-1 div.sk-label input.sk-toggleable__control:checked~label.sk-toggleable__label {background-color: #d4ebff;}#sk-container-id-1 input.sk-hidden--visually {border: 0;clip: rect(1px 1px 1px 1px);clip: rect(1px, 1px, 1px, 1px);height: 1px;margin: -1px;overflow: hidden;padding: 0;position: absolute;width: 1px;}#sk-container-id-1 div.sk-estimator {font-family: monospace;background-color: #f0f8ff;border: 1px dotted black;border-radius: 0.25em;box-sizing: border-box;margin-bottom: 0.5em;}#sk-container-id-1 div.sk-estimator:hover {background-color: #d4ebff;}#sk-container-id-1 div.sk-parallel-item::after {content: \"\";width: 100%;border-bottom: 1px solid gray;flex-grow: 1;}#sk-container-id-1 div.sk-label:hover label.sk-toggleable__label {background-color: #d4ebff;}#sk-container-id-1 div.sk-serial::before {content: \"\";position: absolute;border-left: 1px solid gray;box-sizing: border-box;top: 0;bottom: 0;left: 50%;z-index: 0;}#sk-container-id-1 div.sk-serial {display: flex;flex-direction: column;align-items: center;background-color: white;padding-right: 0.2em;padding-left: 0.2em;position: relative;}#sk-container-id-1 div.sk-item {position: relative;z-index: 1;}#sk-container-id-1 div.sk-parallel {display: flex;align-items: stretch;justify-content: center;background-color: white;position: relative;}#sk-container-id-1 div.sk-item::before, #sk-container-id-1 div.sk-parallel-item::before {content: \"\";position: absolute;border-left: 1px solid gray;box-sizing: border-box;top: 0;bottom: 0;left: 50%;z-index: -1;}#sk-container-id-1 div.sk-parallel-item {display: flex;flex-direction: column;z-index: 1;position: relative;background-color: white;}#sk-container-id-1 div.sk-parallel-item:first-child::after {align-self: flex-end;width: 50%;}#sk-container-id-1 div.sk-parallel-item:last-child::after {align-self: flex-start;width: 50%;}#sk-container-id-1 div.sk-parallel-item:only-child::after {width: 0;}#sk-container-id-1 div.sk-dashed-wrapped {border: 1px dashed gray;margin: 0 0.4em 0.5em 0.4em;box-sizing: border-box;padding-bottom: 0.4em;background-color: white;}#sk-container-id-1 div.sk-label label {font-family: monospace;font-weight: bold;display: inline-block;line-height: 1.2em;}#sk-container-id-1 div.sk-label-container {text-align: center;}#sk-container-id-1 div.sk-container {/* jupyter's `normalize.less` sets `[hidden] { display: none; }` but bootstrap.min.css set `[hidden] { display: none !important; }` so we also need the `!important` here to be able to override the default hidden behavior on the sphinx rendered scikit-learn.org. See: https://github.com/scikit-learn/scikit-learn/issues/21755 */display: inline-block !important;position: relative;}#sk-container-id-1 div.sk-text-repr-fallback {display: none;}</style><div id=\"sk-container-id-1\" class=\"sk-top-container\"><div class=\"sk-text-repr-fallback\"><pre>LogisticRegression()</pre><b>In a Jupyter environment, please rerun this cell to show the HTML representation or trust the notebook. <br />On GitHub, the HTML representation is unable to render, please try loading this page with nbviewer.org.</b></div><div class=\"sk-container\" hidden><div class=\"sk-item\"><div class=\"sk-estimator sk-toggleable\"><input class=\"sk-toggleable__control sk-hidden--visually\" id=\"sk-estimator-id-1\" type=\"checkbox\" checked><label for=\"sk-estimator-id-1\" class=\"sk-toggleable__label sk-toggleable__label-arrow\">LogisticRegression</label><div class=\"sk-toggleable__content\"><pre>LogisticRegression()</pre></div></div></div></div></div>"
      ],
      "text/plain": [
       "LogisticRegression()"
      ]
     },
     "execution_count": 17,
     "metadata": {},
     "output_type": "execute_result"
    }
   ],
   "source": [
    "# Instantiating and fitting the model\n",
    "model_word2vec = LogisticRegression()\n",
    "model_word2vec.fit(word2vec_df, y_train)\n"
   ]
  },
  {
   "cell_type": "code",
   "execution_count": 18,
   "id": "ff254891",
   "metadata": {},
   "outputs": [],
   "source": [
    "# Evaluating the model\n",
    "test_row_vect_list = []\n",
    "\n",
    "for row in X_test.str.split():\n",
    "    row_vector = [w2v_model.wv.get_vector(token) for token in row if token in w2v_model.wv]\n",
    "\n",
    "    if row_vector:\n",
    "        row_vector = np.mean(row_vector, axis=0).tolist()\n",
    "    else:\n",
    "        row_vector = np.zeros(100).tolist()\n",
    "        \n",
    "    test_row_vect_list.append(row_vector)\n",
    "\n",
    "\n",
    "y_pred = model_word2vec.predict(test_row_vect_list)\n"
   ]
  },
  {
   "cell_type": "code",
   "execution_count": 19,
   "id": "0927b55b",
   "metadata": {},
   "outputs": [
    {
     "name": "stdout",
     "output_type": "stream",
     "text": [
      "The f1 score for the baseline model is 0.656.\n"
     ]
    }
   ],
   "source": [
    "# Metrics\n",
    "binary_f1 = f1_score(y_test, y_pred, average='binary')\n",
    "\n",
    "print(f'The f1 score for the baseline model is {binary_f1:.3f}.')\n"
   ]
  },
  {
   "cell_type": "markdown",
   "id": "b79dee6b",
   "metadata": {},
   "source": [
    "We can see that while the model is not great, it still helps us to identify whether it is keto or paleo in 65.3% of cases, which is better than a random guess (a 50% chance of getting it right)."
   ]
  },
  {
   "cell_type": "markdown",
   "id": "75676a5b",
   "metadata": {},
   "source": [
    "### TfidfVectorizer Models"
   ]
  },
  {
   "cell_type": "markdown",
   "id": "468bd3f7",
   "metadata": {},
   "source": [
    "<a id='tfidf'></a>"
   ]
  },
  {
   "cell_type": "markdown",
   "id": "a55e2961",
   "metadata": {},
   "source": [
    "### 1. TfidfVectorizer-KNN"
   ]
  },
  {
   "cell_type": "markdown",
   "id": "d912ab91",
   "metadata": {},
   "source": [
    "<a id='tfidf_knn'></a>"
   ]
  },
  {
   "cell_type": "code",
   "execution_count": 20,
   "id": "99450b22",
   "metadata": {},
   "outputs": [
    {
     "data": {
      "text/html": [
       "<style>#sk-container-id-2 {color: black;background-color: white;}#sk-container-id-2 pre{padding: 0;}#sk-container-id-2 div.sk-toggleable {background-color: white;}#sk-container-id-2 label.sk-toggleable__label {cursor: pointer;display: block;width: 100%;margin-bottom: 0;padding: 0.3em;box-sizing: border-box;text-align: center;}#sk-container-id-2 label.sk-toggleable__label-arrow:before {content: \"▸\";float: left;margin-right: 0.25em;color: #696969;}#sk-container-id-2 label.sk-toggleable__label-arrow:hover:before {color: black;}#sk-container-id-2 div.sk-estimator:hover label.sk-toggleable__label-arrow:before {color: black;}#sk-container-id-2 div.sk-toggleable__content {max-height: 0;max-width: 0;overflow: hidden;text-align: left;background-color: #f0f8ff;}#sk-container-id-2 div.sk-toggleable__content pre {margin: 0.2em;color: black;border-radius: 0.25em;background-color: #f0f8ff;}#sk-container-id-2 input.sk-toggleable__control:checked~div.sk-toggleable__content {max-height: 200px;max-width: 100%;overflow: auto;}#sk-container-id-2 input.sk-toggleable__control:checked~label.sk-toggleable__label-arrow:before {content: \"▾\";}#sk-container-id-2 div.sk-estimator input.sk-toggleable__control:checked~label.sk-toggleable__label {background-color: #d4ebff;}#sk-container-id-2 div.sk-label input.sk-toggleable__control:checked~label.sk-toggleable__label {background-color: #d4ebff;}#sk-container-id-2 input.sk-hidden--visually {border: 0;clip: rect(1px 1px 1px 1px);clip: rect(1px, 1px, 1px, 1px);height: 1px;margin: -1px;overflow: hidden;padding: 0;position: absolute;width: 1px;}#sk-container-id-2 div.sk-estimator {font-family: monospace;background-color: #f0f8ff;border: 1px dotted black;border-radius: 0.25em;box-sizing: border-box;margin-bottom: 0.5em;}#sk-container-id-2 div.sk-estimator:hover {background-color: #d4ebff;}#sk-container-id-2 div.sk-parallel-item::after {content: \"\";width: 100%;border-bottom: 1px solid gray;flex-grow: 1;}#sk-container-id-2 div.sk-label:hover label.sk-toggleable__label {background-color: #d4ebff;}#sk-container-id-2 div.sk-serial::before {content: \"\";position: absolute;border-left: 1px solid gray;box-sizing: border-box;top: 0;bottom: 0;left: 50%;z-index: 0;}#sk-container-id-2 div.sk-serial {display: flex;flex-direction: column;align-items: center;background-color: white;padding-right: 0.2em;padding-left: 0.2em;position: relative;}#sk-container-id-2 div.sk-item {position: relative;z-index: 1;}#sk-container-id-2 div.sk-parallel {display: flex;align-items: stretch;justify-content: center;background-color: white;position: relative;}#sk-container-id-2 div.sk-item::before, #sk-container-id-2 div.sk-parallel-item::before {content: \"\";position: absolute;border-left: 1px solid gray;box-sizing: border-box;top: 0;bottom: 0;left: 50%;z-index: -1;}#sk-container-id-2 div.sk-parallel-item {display: flex;flex-direction: column;z-index: 1;position: relative;background-color: white;}#sk-container-id-2 div.sk-parallel-item:first-child::after {align-self: flex-end;width: 50%;}#sk-container-id-2 div.sk-parallel-item:last-child::after {align-self: flex-start;width: 50%;}#sk-container-id-2 div.sk-parallel-item:only-child::after {width: 0;}#sk-container-id-2 div.sk-dashed-wrapped {border: 1px dashed gray;margin: 0 0.4em 0.5em 0.4em;box-sizing: border-box;padding-bottom: 0.4em;background-color: white;}#sk-container-id-2 div.sk-label label {font-family: monospace;font-weight: bold;display: inline-block;line-height: 1.2em;}#sk-container-id-2 div.sk-label-container {text-align: center;}#sk-container-id-2 div.sk-container {/* jupyter's `normalize.less` sets `[hidden] { display: none; }` but bootstrap.min.css set `[hidden] { display: none !important; }` so we also need the `!important` here to be able to override the default hidden behavior on the sphinx rendered scikit-learn.org. See: https://github.com/scikit-learn/scikit-learn/issues/21755 */display: inline-block !important;position: relative;}#sk-container-id-2 div.sk-text-repr-fallback {display: none;}</style><div id=\"sk-container-id-2\" class=\"sk-top-container\"><div class=\"sk-text-repr-fallback\"><pre>GridSearchCV(cv=3,\n",
       "             estimator=Pipeline(steps=[(&#x27;tvec&#x27;, TfidfVectorizer()),\n",
       "                                       (&#x27;knn&#x27;, KNeighborsClassifier())]),\n",
       "             param_grid={&#x27;knn__metric&#x27;: [&#x27;euclidean&#x27;], &#x27;knn__n_neighbors&#x27;: [41],\n",
       "                         &#x27;tvec__max_df&#x27;: [0.9], &#x27;tvec__max_features&#x27;: [4000],\n",
       "                         &#x27;tvec__min_df&#x27;: [3], &#x27;tvec__ngram_range&#x27;: [(1, 2)]},\n",
       "             scoring=&#x27;f1&#x27;)</pre><b>In a Jupyter environment, please rerun this cell to show the HTML representation or trust the notebook. <br />On GitHub, the HTML representation is unable to render, please try loading this page with nbviewer.org.</b></div><div class=\"sk-container\" hidden><div class=\"sk-item sk-dashed-wrapped\"><div class=\"sk-label-container\"><div class=\"sk-label sk-toggleable\"><input class=\"sk-toggleable__control sk-hidden--visually\" id=\"sk-estimator-id-2\" type=\"checkbox\" ><label for=\"sk-estimator-id-2\" class=\"sk-toggleable__label sk-toggleable__label-arrow\">GridSearchCV</label><div class=\"sk-toggleable__content\"><pre>GridSearchCV(cv=3,\n",
       "             estimator=Pipeline(steps=[(&#x27;tvec&#x27;, TfidfVectorizer()),\n",
       "                                       (&#x27;knn&#x27;, KNeighborsClassifier())]),\n",
       "             param_grid={&#x27;knn__metric&#x27;: [&#x27;euclidean&#x27;], &#x27;knn__n_neighbors&#x27;: [41],\n",
       "                         &#x27;tvec__max_df&#x27;: [0.9], &#x27;tvec__max_features&#x27;: [4000],\n",
       "                         &#x27;tvec__min_df&#x27;: [3], &#x27;tvec__ngram_range&#x27;: [(1, 2)]},\n",
       "             scoring=&#x27;f1&#x27;)</pre></div></div></div><div class=\"sk-parallel\"><div class=\"sk-parallel-item\"><div class=\"sk-item\"><div class=\"sk-label-container\"><div class=\"sk-label sk-toggleable\"><input class=\"sk-toggleable__control sk-hidden--visually\" id=\"sk-estimator-id-3\" type=\"checkbox\" ><label for=\"sk-estimator-id-3\" class=\"sk-toggleable__label sk-toggleable__label-arrow\">estimator: Pipeline</label><div class=\"sk-toggleable__content\"><pre>Pipeline(steps=[(&#x27;tvec&#x27;, TfidfVectorizer()), (&#x27;knn&#x27;, KNeighborsClassifier())])</pre></div></div></div><div class=\"sk-serial\"><div class=\"sk-item\"><div class=\"sk-serial\"><div class=\"sk-item\"><div class=\"sk-estimator sk-toggleable\"><input class=\"sk-toggleable__control sk-hidden--visually\" id=\"sk-estimator-id-4\" type=\"checkbox\" ><label for=\"sk-estimator-id-4\" class=\"sk-toggleable__label sk-toggleable__label-arrow\">TfidfVectorizer</label><div class=\"sk-toggleable__content\"><pre>TfidfVectorizer()</pre></div></div></div><div class=\"sk-item\"><div class=\"sk-estimator sk-toggleable\"><input class=\"sk-toggleable__control sk-hidden--visually\" id=\"sk-estimator-id-5\" type=\"checkbox\" ><label for=\"sk-estimator-id-5\" class=\"sk-toggleable__label sk-toggleable__label-arrow\">KNeighborsClassifier</label><div class=\"sk-toggleable__content\"><pre>KNeighborsClassifier()</pre></div></div></div></div></div></div></div></div></div></div></div></div>"
      ],
      "text/plain": [
       "GridSearchCV(cv=3,\n",
       "             estimator=Pipeline(steps=[('tvec', TfidfVectorizer()),\n",
       "                                       ('knn', KNeighborsClassifier())]),\n",
       "             param_grid={'knn__metric': ['euclidean'], 'knn__n_neighbors': [41],\n",
       "                         'tvec__max_df': [0.9], 'tvec__max_features': [4000],\n",
       "                         'tvec__min_df': [3], 'tvec__ngram_range': [(1, 2)]},\n",
       "             scoring='f1')"
      ]
     },
     "execution_count": 20,
     "metadata": {},
     "output_type": "execute_result"
    }
   ],
   "source": [
    "# Fitting the model\n",
    "pipe_tfidf_knn = Pipeline(steps=[('tvec', TfidfVectorizer()),\n",
    "                                ('knn', KNeighborsClassifier())])\n",
    "\n",
    "pipe_tfidf_knn_params = {'tvec__max_features':[4000], #2000, 3000, 4000, 5000\n",
    "                        'tvec__min_df':[3], #2, 3\n",
    "                        'tvec__max_df':[.90], #.90, .95\n",
    "                        'tvec__ngram_range':[(1,2)], #(1,1), (1,2), (2,2)\n",
    "                        'knn__n_neighbors': [41], #list(range(1,51,10))\n",
    "                        'knn__metric': ['euclidean']} #'euclidean', 'manhattan'\n",
    "\n",
    "gs_tfidf_knn = GridSearchCV(pipe_tfidf_knn, param_grid=pipe_tfidf_knn_params, scoring = 'f1', cv=3)\n",
    "\n",
    "gs_tfidf_knn.fit(X_train, y_train)\n",
    "\n"
   ]
  },
  {
   "cell_type": "code",
   "execution_count": 21,
   "id": "ff1ee25c",
   "metadata": {},
   "outputs": [],
   "source": [
    "# Making predictions\n",
    "train_y_pred_tfidf_knn = gs_tfidf_knn.predict(X_train)\n",
    "y_pred_tfidf_knn = gs_tfidf_knn.predict(X_test)\n"
   ]
  },
  {
   "cell_type": "code",
   "execution_count": 22,
   "id": "833ff29c",
   "metadata": {},
   "outputs": [
    {
     "name": "stdout",
     "output_type": "stream",
     "text": [
      "The f1 train score for model 1 is 0.859.\n",
      "The f1 test score for model 1 is 0.881.\n"
     ]
    }
   ],
   "source": [
    "# Metrics\n",
    "binary_f1_train = f1_score(y_train, train_y_pred_tfidf_knn, average='binary')\n",
    "binary_f1 = f1_score(y_test, y_pred_tfidf_knn, average='binary')\n",
    "\n",
    "print(f'The f1 train score for model 1 is {binary_f1_train:.3f}.')\n",
    "print(f'The f1 test score for model 1 is {binary_f1:.3f}.')\n"
   ]
  },
  {
   "cell_type": "markdown",
   "id": "1c4a2844",
   "metadata": {},
   "source": [
    "### 2. TfidfVectorizer-Bernoulli NB"
   ]
  },
  {
   "cell_type": "markdown",
   "id": "5a31caa3",
   "metadata": {},
   "source": [
    "<a id='tfidf_bnb'></a>"
   ]
  },
  {
   "cell_type": "code",
   "execution_count": 23,
   "id": "8d32660e",
   "metadata": {},
   "outputs": [
    {
     "data": {
      "text/html": [
       "<style>#sk-container-id-3 {color: black;background-color: white;}#sk-container-id-3 pre{padding: 0;}#sk-container-id-3 div.sk-toggleable {background-color: white;}#sk-container-id-3 label.sk-toggleable__label {cursor: pointer;display: block;width: 100%;margin-bottom: 0;padding: 0.3em;box-sizing: border-box;text-align: center;}#sk-container-id-3 label.sk-toggleable__label-arrow:before {content: \"▸\";float: left;margin-right: 0.25em;color: #696969;}#sk-container-id-3 label.sk-toggleable__label-arrow:hover:before {color: black;}#sk-container-id-3 div.sk-estimator:hover label.sk-toggleable__label-arrow:before {color: black;}#sk-container-id-3 div.sk-toggleable__content {max-height: 0;max-width: 0;overflow: hidden;text-align: left;background-color: #f0f8ff;}#sk-container-id-3 div.sk-toggleable__content pre {margin: 0.2em;color: black;border-radius: 0.25em;background-color: #f0f8ff;}#sk-container-id-3 input.sk-toggleable__control:checked~div.sk-toggleable__content {max-height: 200px;max-width: 100%;overflow: auto;}#sk-container-id-3 input.sk-toggleable__control:checked~label.sk-toggleable__label-arrow:before {content: \"▾\";}#sk-container-id-3 div.sk-estimator input.sk-toggleable__control:checked~label.sk-toggleable__label {background-color: #d4ebff;}#sk-container-id-3 div.sk-label input.sk-toggleable__control:checked~label.sk-toggleable__label {background-color: #d4ebff;}#sk-container-id-3 input.sk-hidden--visually {border: 0;clip: rect(1px 1px 1px 1px);clip: rect(1px, 1px, 1px, 1px);height: 1px;margin: -1px;overflow: hidden;padding: 0;position: absolute;width: 1px;}#sk-container-id-3 div.sk-estimator {font-family: monospace;background-color: #f0f8ff;border: 1px dotted black;border-radius: 0.25em;box-sizing: border-box;margin-bottom: 0.5em;}#sk-container-id-3 div.sk-estimator:hover {background-color: #d4ebff;}#sk-container-id-3 div.sk-parallel-item::after {content: \"\";width: 100%;border-bottom: 1px solid gray;flex-grow: 1;}#sk-container-id-3 div.sk-label:hover label.sk-toggleable__label {background-color: #d4ebff;}#sk-container-id-3 div.sk-serial::before {content: \"\";position: absolute;border-left: 1px solid gray;box-sizing: border-box;top: 0;bottom: 0;left: 50%;z-index: 0;}#sk-container-id-3 div.sk-serial {display: flex;flex-direction: column;align-items: center;background-color: white;padding-right: 0.2em;padding-left: 0.2em;position: relative;}#sk-container-id-3 div.sk-item {position: relative;z-index: 1;}#sk-container-id-3 div.sk-parallel {display: flex;align-items: stretch;justify-content: center;background-color: white;position: relative;}#sk-container-id-3 div.sk-item::before, #sk-container-id-3 div.sk-parallel-item::before {content: \"\";position: absolute;border-left: 1px solid gray;box-sizing: border-box;top: 0;bottom: 0;left: 50%;z-index: -1;}#sk-container-id-3 div.sk-parallel-item {display: flex;flex-direction: column;z-index: 1;position: relative;background-color: white;}#sk-container-id-3 div.sk-parallel-item:first-child::after {align-self: flex-end;width: 50%;}#sk-container-id-3 div.sk-parallel-item:last-child::after {align-self: flex-start;width: 50%;}#sk-container-id-3 div.sk-parallel-item:only-child::after {width: 0;}#sk-container-id-3 div.sk-dashed-wrapped {border: 1px dashed gray;margin: 0 0.4em 0.5em 0.4em;box-sizing: border-box;padding-bottom: 0.4em;background-color: white;}#sk-container-id-3 div.sk-label label {font-family: monospace;font-weight: bold;display: inline-block;line-height: 1.2em;}#sk-container-id-3 div.sk-label-container {text-align: center;}#sk-container-id-3 div.sk-container {/* jupyter's `normalize.less` sets `[hidden] { display: none; }` but bootstrap.min.css set `[hidden] { display: none !important; }` so we also need the `!important` here to be able to override the default hidden behavior on the sphinx rendered scikit-learn.org. See: https://github.com/scikit-learn/scikit-learn/issues/21755 */display: inline-block !important;position: relative;}#sk-container-id-3 div.sk-text-repr-fallback {display: none;}</style><div id=\"sk-container-id-3\" class=\"sk-top-container\"><div class=\"sk-text-repr-fallback\"><pre>GridSearchCV(cv=3,\n",
       "             estimator=Pipeline(steps=[(&#x27;tvec&#x27;, TfidfVectorizer()),\n",
       "                                       (&#x27;bern&#x27;, BernoulliNB())]),\n",
       "             param_grid={&#x27;bern__binarize&#x27;: [0.1], &#x27;tvec__max_df&#x27;: [0.9],\n",
       "                         &#x27;tvec__max_features&#x27;: [3000], &#x27;tvec__min_df&#x27;: [3],\n",
       "                         &#x27;tvec__ngram_range&#x27;: [(1, 2)]})</pre><b>In a Jupyter environment, please rerun this cell to show the HTML representation or trust the notebook. <br />On GitHub, the HTML representation is unable to render, please try loading this page with nbviewer.org.</b></div><div class=\"sk-container\" hidden><div class=\"sk-item sk-dashed-wrapped\"><div class=\"sk-label-container\"><div class=\"sk-label sk-toggleable\"><input class=\"sk-toggleable__control sk-hidden--visually\" id=\"sk-estimator-id-6\" type=\"checkbox\" ><label for=\"sk-estimator-id-6\" class=\"sk-toggleable__label sk-toggleable__label-arrow\">GridSearchCV</label><div class=\"sk-toggleable__content\"><pre>GridSearchCV(cv=3,\n",
       "             estimator=Pipeline(steps=[(&#x27;tvec&#x27;, TfidfVectorizer()),\n",
       "                                       (&#x27;bern&#x27;, BernoulliNB())]),\n",
       "             param_grid={&#x27;bern__binarize&#x27;: [0.1], &#x27;tvec__max_df&#x27;: [0.9],\n",
       "                         &#x27;tvec__max_features&#x27;: [3000], &#x27;tvec__min_df&#x27;: [3],\n",
       "                         &#x27;tvec__ngram_range&#x27;: [(1, 2)]})</pre></div></div></div><div class=\"sk-parallel\"><div class=\"sk-parallel-item\"><div class=\"sk-item\"><div class=\"sk-label-container\"><div class=\"sk-label sk-toggleable\"><input class=\"sk-toggleable__control sk-hidden--visually\" id=\"sk-estimator-id-7\" type=\"checkbox\" ><label for=\"sk-estimator-id-7\" class=\"sk-toggleable__label sk-toggleable__label-arrow\">estimator: Pipeline</label><div class=\"sk-toggleable__content\"><pre>Pipeline(steps=[(&#x27;tvec&#x27;, TfidfVectorizer()), (&#x27;bern&#x27;, BernoulliNB())])</pre></div></div></div><div class=\"sk-serial\"><div class=\"sk-item\"><div class=\"sk-serial\"><div class=\"sk-item\"><div class=\"sk-estimator sk-toggleable\"><input class=\"sk-toggleable__control sk-hidden--visually\" id=\"sk-estimator-id-8\" type=\"checkbox\" ><label for=\"sk-estimator-id-8\" class=\"sk-toggleable__label sk-toggleable__label-arrow\">TfidfVectorizer</label><div class=\"sk-toggleable__content\"><pre>TfidfVectorizer()</pre></div></div></div><div class=\"sk-item\"><div class=\"sk-estimator sk-toggleable\"><input class=\"sk-toggleable__control sk-hidden--visually\" id=\"sk-estimator-id-9\" type=\"checkbox\" ><label for=\"sk-estimator-id-9\" class=\"sk-toggleable__label sk-toggleable__label-arrow\">BernoulliNB</label><div class=\"sk-toggleable__content\"><pre>BernoulliNB()</pre></div></div></div></div></div></div></div></div></div></div></div></div>"
      ],
      "text/plain": [
       "GridSearchCV(cv=3,\n",
       "             estimator=Pipeline(steps=[('tvec', TfidfVectorizer()),\n",
       "                                       ('bern', BernoulliNB())]),\n",
       "             param_grid={'bern__binarize': [0.1], 'tvec__max_df': [0.9],\n",
       "                         'tvec__max_features': [3000], 'tvec__min_df': [3],\n",
       "                         'tvec__ngram_range': [(1, 2)]})"
      ]
     },
     "execution_count": 23,
     "metadata": {},
     "output_type": "execute_result"
    }
   ],
   "source": [
    "# Fitting the model\n",
    "pipe_tfidf_bnb = Pipeline(steps=[('tvec', TfidfVectorizer()),\n",
    "                                  ('bern', BernoulliNB())])\n",
    "\n",
    "pipe_tfidf_bnb_params = {'tvec__max_features':[3000], #2000, 3000, 4000, 5000\n",
    "                         'tvec__min_df':[3], #2, 3\n",
    "                         'tvec__max_df':[.90], #.90, .95\n",
    "                         'tvec__ngram_range':[(1,2)], #(1,1), (1,2), (2,2)\n",
    "                         'bern__binarize': [0.1]} #np.arange(0, 0.5, 0.1)\n",
    "\n",
    "gs_tfidf_bnb = GridSearchCV(pipe_tfidf_bnb, param_grid=pipe_tfidf_bnb_params, cv=3)\n",
    "\n",
    "gs_tfidf_bnb.fit(X_train, y_train)\n"
   ]
  },
  {
   "cell_type": "code",
   "execution_count": 24,
   "id": "17e1e067",
   "metadata": {},
   "outputs": [],
   "source": [
    "# Making predictions\n",
    "y_pred_tfidf_bnb_train = gs_tfidf_bnb.predict(X_train)\n",
    "y_pred_tfidf_bnb = gs_tfidf_bnb.predict(X_test)\n"
   ]
  },
  {
   "cell_type": "code",
   "execution_count": 25,
   "id": "d90791c0",
   "metadata": {},
   "outputs": [
    {
     "name": "stdout",
     "output_type": "stream",
     "text": [
      "The f1 train score for model 2 is 0.927.\n",
      "The f1 test score for model 2 is 0.881.\n"
     ]
    }
   ],
   "source": [
    "# Metrics\n",
    "binary_f1_train = f1_score(y_train, y_pred_tfidf_bnb_train, average='binary')\n",
    "binary_f1_test = f1_score(y_test, y_pred_tfidf_bnb, average='binary')\n",
    "\n",
    "print(f'The f1 train score for model 2 is {binary_f1_train:.3f}.')\n",
    "print(f'The f1 test score for model 2 is {binary_f1:.3f}.')"
   ]
  },
  {
   "cell_type": "markdown",
   "id": "8365eb9c",
   "metadata": {},
   "source": [
    "### 3. TfidfVectorizer-Multinomial NB"
   ]
  },
  {
   "cell_type": "markdown",
   "id": "9439e428",
   "metadata": {},
   "source": [
    "<a id='tfidf_mnb'></a>"
   ]
  },
  {
   "cell_type": "code",
   "execution_count": 26,
   "id": "815f576f",
   "metadata": {},
   "outputs": [
    {
     "data": {
      "text/html": [
       "<style>#sk-container-id-4 {color: black;background-color: white;}#sk-container-id-4 pre{padding: 0;}#sk-container-id-4 div.sk-toggleable {background-color: white;}#sk-container-id-4 label.sk-toggleable__label {cursor: pointer;display: block;width: 100%;margin-bottom: 0;padding: 0.3em;box-sizing: border-box;text-align: center;}#sk-container-id-4 label.sk-toggleable__label-arrow:before {content: \"▸\";float: left;margin-right: 0.25em;color: #696969;}#sk-container-id-4 label.sk-toggleable__label-arrow:hover:before {color: black;}#sk-container-id-4 div.sk-estimator:hover label.sk-toggleable__label-arrow:before {color: black;}#sk-container-id-4 div.sk-toggleable__content {max-height: 0;max-width: 0;overflow: hidden;text-align: left;background-color: #f0f8ff;}#sk-container-id-4 div.sk-toggleable__content pre {margin: 0.2em;color: black;border-radius: 0.25em;background-color: #f0f8ff;}#sk-container-id-4 input.sk-toggleable__control:checked~div.sk-toggleable__content {max-height: 200px;max-width: 100%;overflow: auto;}#sk-container-id-4 input.sk-toggleable__control:checked~label.sk-toggleable__label-arrow:before {content: \"▾\";}#sk-container-id-4 div.sk-estimator input.sk-toggleable__control:checked~label.sk-toggleable__label {background-color: #d4ebff;}#sk-container-id-4 div.sk-label input.sk-toggleable__control:checked~label.sk-toggleable__label {background-color: #d4ebff;}#sk-container-id-4 input.sk-hidden--visually {border: 0;clip: rect(1px 1px 1px 1px);clip: rect(1px, 1px, 1px, 1px);height: 1px;margin: -1px;overflow: hidden;padding: 0;position: absolute;width: 1px;}#sk-container-id-4 div.sk-estimator {font-family: monospace;background-color: #f0f8ff;border: 1px dotted black;border-radius: 0.25em;box-sizing: border-box;margin-bottom: 0.5em;}#sk-container-id-4 div.sk-estimator:hover {background-color: #d4ebff;}#sk-container-id-4 div.sk-parallel-item::after {content: \"\";width: 100%;border-bottom: 1px solid gray;flex-grow: 1;}#sk-container-id-4 div.sk-label:hover label.sk-toggleable__label {background-color: #d4ebff;}#sk-container-id-4 div.sk-serial::before {content: \"\";position: absolute;border-left: 1px solid gray;box-sizing: border-box;top: 0;bottom: 0;left: 50%;z-index: 0;}#sk-container-id-4 div.sk-serial {display: flex;flex-direction: column;align-items: center;background-color: white;padding-right: 0.2em;padding-left: 0.2em;position: relative;}#sk-container-id-4 div.sk-item {position: relative;z-index: 1;}#sk-container-id-4 div.sk-parallel {display: flex;align-items: stretch;justify-content: center;background-color: white;position: relative;}#sk-container-id-4 div.sk-item::before, #sk-container-id-4 div.sk-parallel-item::before {content: \"\";position: absolute;border-left: 1px solid gray;box-sizing: border-box;top: 0;bottom: 0;left: 50%;z-index: -1;}#sk-container-id-4 div.sk-parallel-item {display: flex;flex-direction: column;z-index: 1;position: relative;background-color: white;}#sk-container-id-4 div.sk-parallel-item:first-child::after {align-self: flex-end;width: 50%;}#sk-container-id-4 div.sk-parallel-item:last-child::after {align-self: flex-start;width: 50%;}#sk-container-id-4 div.sk-parallel-item:only-child::after {width: 0;}#sk-container-id-4 div.sk-dashed-wrapped {border: 1px dashed gray;margin: 0 0.4em 0.5em 0.4em;box-sizing: border-box;padding-bottom: 0.4em;background-color: white;}#sk-container-id-4 div.sk-label label {font-family: monospace;font-weight: bold;display: inline-block;line-height: 1.2em;}#sk-container-id-4 div.sk-label-container {text-align: center;}#sk-container-id-4 div.sk-container {/* jupyter's `normalize.less` sets `[hidden] { display: none; }` but bootstrap.min.css set `[hidden] { display: none !important; }` so we also need the `!important` here to be able to override the default hidden behavior on the sphinx rendered scikit-learn.org. See: https://github.com/scikit-learn/scikit-learn/issues/21755 */display: inline-block !important;position: relative;}#sk-container-id-4 div.sk-text-repr-fallback {display: none;}</style><div id=\"sk-container-id-4\" class=\"sk-top-container\"><div class=\"sk-text-repr-fallback\"><pre>GridSearchCV(cv=5,\n",
       "             estimator=Pipeline(steps=[(&#x27;tvec&#x27;, TfidfVectorizer()),\n",
       "                                       (&#x27;multi&#x27;, MultinomialNB())]),\n",
       "             param_grid={&#x27;tvec__max_df&#x27;: [0.9], &#x27;tvec__max_features&#x27;: [2000],\n",
       "                         &#x27;tvec__min_df&#x27;: [3], &#x27;tvec__ngram_range&#x27;: [(1, 2)]})</pre><b>In a Jupyter environment, please rerun this cell to show the HTML representation or trust the notebook. <br />On GitHub, the HTML representation is unable to render, please try loading this page with nbviewer.org.</b></div><div class=\"sk-container\" hidden><div class=\"sk-item sk-dashed-wrapped\"><div class=\"sk-label-container\"><div class=\"sk-label sk-toggleable\"><input class=\"sk-toggleable__control sk-hidden--visually\" id=\"sk-estimator-id-10\" type=\"checkbox\" ><label for=\"sk-estimator-id-10\" class=\"sk-toggleable__label sk-toggleable__label-arrow\">GridSearchCV</label><div class=\"sk-toggleable__content\"><pre>GridSearchCV(cv=5,\n",
       "             estimator=Pipeline(steps=[(&#x27;tvec&#x27;, TfidfVectorizer()),\n",
       "                                       (&#x27;multi&#x27;, MultinomialNB())]),\n",
       "             param_grid={&#x27;tvec__max_df&#x27;: [0.9], &#x27;tvec__max_features&#x27;: [2000],\n",
       "                         &#x27;tvec__min_df&#x27;: [3], &#x27;tvec__ngram_range&#x27;: [(1, 2)]})</pre></div></div></div><div class=\"sk-parallel\"><div class=\"sk-parallel-item\"><div class=\"sk-item\"><div class=\"sk-label-container\"><div class=\"sk-label sk-toggleable\"><input class=\"sk-toggleable__control sk-hidden--visually\" id=\"sk-estimator-id-11\" type=\"checkbox\" ><label for=\"sk-estimator-id-11\" class=\"sk-toggleable__label sk-toggleable__label-arrow\">estimator: Pipeline</label><div class=\"sk-toggleable__content\"><pre>Pipeline(steps=[(&#x27;tvec&#x27;, TfidfVectorizer()), (&#x27;multi&#x27;, MultinomialNB())])</pre></div></div></div><div class=\"sk-serial\"><div class=\"sk-item\"><div class=\"sk-serial\"><div class=\"sk-item\"><div class=\"sk-estimator sk-toggleable\"><input class=\"sk-toggleable__control sk-hidden--visually\" id=\"sk-estimator-id-12\" type=\"checkbox\" ><label for=\"sk-estimator-id-12\" class=\"sk-toggleable__label sk-toggleable__label-arrow\">TfidfVectorizer</label><div class=\"sk-toggleable__content\"><pre>TfidfVectorizer()</pre></div></div></div><div class=\"sk-item\"><div class=\"sk-estimator sk-toggleable\"><input class=\"sk-toggleable__control sk-hidden--visually\" id=\"sk-estimator-id-13\" type=\"checkbox\" ><label for=\"sk-estimator-id-13\" class=\"sk-toggleable__label sk-toggleable__label-arrow\">MultinomialNB</label><div class=\"sk-toggleable__content\"><pre>MultinomialNB()</pre></div></div></div></div></div></div></div></div></div></div></div></div>"
      ],
      "text/plain": [
       "GridSearchCV(cv=5,\n",
       "             estimator=Pipeline(steps=[('tvec', TfidfVectorizer()),\n",
       "                                       ('multi', MultinomialNB())]),\n",
       "             param_grid={'tvec__max_df': [0.9], 'tvec__max_features': [2000],\n",
       "                         'tvec__min_df': [3], 'tvec__ngram_range': [(1, 2)]})"
      ]
     },
     "execution_count": 26,
     "metadata": {},
     "output_type": "execute_result"
    }
   ],
   "source": [
    "# Fitting the model\n",
    "pipe_tfidf_mnb = Pipeline(steps=[('tvec', TfidfVectorizer()),\n",
    "                                  ('multi', MultinomialNB())])\n",
    "\n",
    "pipe_tfidf_mnb_params = {'tvec__max_features':[2000], #2000, 3000, 4000, 5000\n",
    "                         'tvec__min_df':[3], #2, 3\n",
    "                         'tvec__max_df':[.90], #.90, .95\n",
    "                         'tvec__ngram_range':[(1,2)]} #(1,1), (1,2), (2,2)\n",
    "\n",
    "gs_tfidf_mnb = GridSearchCV(pipe_tfidf_mnb, param_grid=pipe_tfidf_mnb_params, cv=5)\n",
    "\n",
    "gs_tfidf_mnb.fit(X_train, y_train)\n"
   ]
  },
  {
   "cell_type": "code",
   "execution_count": 27,
   "id": "33d4ddf7",
   "metadata": {},
   "outputs": [],
   "source": [
    "# Making predictions\n",
    "y_pred_tfidf_mnb_train = gs_tfidf_mnb.predict(X_train)\n",
    "y_pred_tfidf_mnb = gs_tfidf_mnb.predict(X_test)\n"
   ]
  },
  {
   "cell_type": "code",
   "execution_count": 28,
   "id": "740a6444",
   "metadata": {},
   "outputs": [
    {
     "name": "stdout",
     "output_type": "stream",
     "text": [
      "The f1 train score for model 3 is 0.923.\n",
      "The f1 test score for model 3 is 0.848.\n"
     ]
    }
   ],
   "source": [
    "# Metrics\n",
    "binary_f1_train = f1_score(y_train, y_pred_tfidf_mnb_train, average='binary')\n",
    "binary_f1 = f1_score(y_test, y_pred_tfidf_mnb, average='binary')\n",
    "\n",
    "print(f'The f1 train score for model 3 is {binary_f1_train:.3f}.')\n",
    "print(f'The f1 test score for model 3 is {binary_f1:.3f}.')"
   ]
  },
  {
   "cell_type": "markdown",
   "id": "b40c35e6",
   "metadata": {},
   "source": [
    "### 4. TfidfVectorizer-Gaussian NB"
   ]
  },
  {
   "cell_type": "markdown",
   "id": "876b7dfb",
   "metadata": {},
   "source": [
    "<a id='tfidf_gnb'></a>"
   ]
  },
  {
   "cell_type": "code",
   "execution_count": 29,
   "id": "81b3e058",
   "metadata": {},
   "outputs": [
    {
     "data": {
      "text/html": [
       "<style>#sk-container-id-5 {color: black;background-color: white;}#sk-container-id-5 pre{padding: 0;}#sk-container-id-5 div.sk-toggleable {background-color: white;}#sk-container-id-5 label.sk-toggleable__label {cursor: pointer;display: block;width: 100%;margin-bottom: 0;padding: 0.3em;box-sizing: border-box;text-align: center;}#sk-container-id-5 label.sk-toggleable__label-arrow:before {content: \"▸\";float: left;margin-right: 0.25em;color: #696969;}#sk-container-id-5 label.sk-toggleable__label-arrow:hover:before {color: black;}#sk-container-id-5 div.sk-estimator:hover label.sk-toggleable__label-arrow:before {color: black;}#sk-container-id-5 div.sk-toggleable__content {max-height: 0;max-width: 0;overflow: hidden;text-align: left;background-color: #f0f8ff;}#sk-container-id-5 div.sk-toggleable__content pre {margin: 0.2em;color: black;border-radius: 0.25em;background-color: #f0f8ff;}#sk-container-id-5 input.sk-toggleable__control:checked~div.sk-toggleable__content {max-height: 200px;max-width: 100%;overflow: auto;}#sk-container-id-5 input.sk-toggleable__control:checked~label.sk-toggleable__label-arrow:before {content: \"▾\";}#sk-container-id-5 div.sk-estimator input.sk-toggleable__control:checked~label.sk-toggleable__label {background-color: #d4ebff;}#sk-container-id-5 div.sk-label input.sk-toggleable__control:checked~label.sk-toggleable__label {background-color: #d4ebff;}#sk-container-id-5 input.sk-hidden--visually {border: 0;clip: rect(1px 1px 1px 1px);clip: rect(1px, 1px, 1px, 1px);height: 1px;margin: -1px;overflow: hidden;padding: 0;position: absolute;width: 1px;}#sk-container-id-5 div.sk-estimator {font-family: monospace;background-color: #f0f8ff;border: 1px dotted black;border-radius: 0.25em;box-sizing: border-box;margin-bottom: 0.5em;}#sk-container-id-5 div.sk-estimator:hover {background-color: #d4ebff;}#sk-container-id-5 div.sk-parallel-item::after {content: \"\";width: 100%;border-bottom: 1px solid gray;flex-grow: 1;}#sk-container-id-5 div.sk-label:hover label.sk-toggleable__label {background-color: #d4ebff;}#sk-container-id-5 div.sk-serial::before {content: \"\";position: absolute;border-left: 1px solid gray;box-sizing: border-box;top: 0;bottom: 0;left: 50%;z-index: 0;}#sk-container-id-5 div.sk-serial {display: flex;flex-direction: column;align-items: center;background-color: white;padding-right: 0.2em;padding-left: 0.2em;position: relative;}#sk-container-id-5 div.sk-item {position: relative;z-index: 1;}#sk-container-id-5 div.sk-parallel {display: flex;align-items: stretch;justify-content: center;background-color: white;position: relative;}#sk-container-id-5 div.sk-item::before, #sk-container-id-5 div.sk-parallel-item::before {content: \"\";position: absolute;border-left: 1px solid gray;box-sizing: border-box;top: 0;bottom: 0;left: 50%;z-index: -1;}#sk-container-id-5 div.sk-parallel-item {display: flex;flex-direction: column;z-index: 1;position: relative;background-color: white;}#sk-container-id-5 div.sk-parallel-item:first-child::after {align-self: flex-end;width: 50%;}#sk-container-id-5 div.sk-parallel-item:last-child::after {align-self: flex-start;width: 50%;}#sk-container-id-5 div.sk-parallel-item:only-child::after {width: 0;}#sk-container-id-5 div.sk-dashed-wrapped {border: 1px dashed gray;margin: 0 0.4em 0.5em 0.4em;box-sizing: border-box;padding-bottom: 0.4em;background-color: white;}#sk-container-id-5 div.sk-label label {font-family: monospace;font-weight: bold;display: inline-block;line-height: 1.2em;}#sk-container-id-5 div.sk-label-container {text-align: center;}#sk-container-id-5 div.sk-container {/* jupyter's `normalize.less` sets `[hidden] { display: none; }` but bootstrap.min.css set `[hidden] { display: none !important; }` so we also need the `!important` here to be able to override the default hidden behavior on the sphinx rendered scikit-learn.org. See: https://github.com/scikit-learn/scikit-learn/issues/21755 */display: inline-block !important;position: relative;}#sk-container-id-5 div.sk-text-repr-fallback {display: none;}</style><div id=\"sk-container-id-5\" class=\"sk-top-container\"><div class=\"sk-text-repr-fallback\"><pre>GridSearchCV(cv=5,\n",
       "             estimator=Pipeline(steps=[(&#x27;tvec&#x27;, TfidfVectorizer()),\n",
       "                                       (&#x27;sparse_to_dense&#x27;,\n",
       "                                        FunctionTransformer(accept_sparse=True,\n",
       "                                                            func=&lt;function &lt;lambda&gt; at 0x174500430&gt;)),\n",
       "                                       (&#x27;gaus&#x27;, GaussianNB())]),\n",
       "             param_grid={&#x27;tvec__max_df&#x27;: [0.9], &#x27;tvec__max_features&#x27;: [3000],\n",
       "                         &#x27;tvec__min_df&#x27;: [3], &#x27;tvec__ngram_range&#x27;: [(1, 2)]})</pre><b>In a Jupyter environment, please rerun this cell to show the HTML representation or trust the notebook. <br />On GitHub, the HTML representation is unable to render, please try loading this page with nbviewer.org.</b></div><div class=\"sk-container\" hidden><div class=\"sk-item sk-dashed-wrapped\"><div class=\"sk-label-container\"><div class=\"sk-label sk-toggleable\"><input class=\"sk-toggleable__control sk-hidden--visually\" id=\"sk-estimator-id-14\" type=\"checkbox\" ><label for=\"sk-estimator-id-14\" class=\"sk-toggleable__label sk-toggleable__label-arrow\">GridSearchCV</label><div class=\"sk-toggleable__content\"><pre>GridSearchCV(cv=5,\n",
       "             estimator=Pipeline(steps=[(&#x27;tvec&#x27;, TfidfVectorizer()),\n",
       "                                       (&#x27;sparse_to_dense&#x27;,\n",
       "                                        FunctionTransformer(accept_sparse=True,\n",
       "                                                            func=&lt;function &lt;lambda&gt; at 0x174500430&gt;)),\n",
       "                                       (&#x27;gaus&#x27;, GaussianNB())]),\n",
       "             param_grid={&#x27;tvec__max_df&#x27;: [0.9], &#x27;tvec__max_features&#x27;: [3000],\n",
       "                         &#x27;tvec__min_df&#x27;: [3], &#x27;tvec__ngram_range&#x27;: [(1, 2)]})</pre></div></div></div><div class=\"sk-parallel\"><div class=\"sk-parallel-item\"><div class=\"sk-item\"><div class=\"sk-label-container\"><div class=\"sk-label sk-toggleable\"><input class=\"sk-toggleable__control sk-hidden--visually\" id=\"sk-estimator-id-15\" type=\"checkbox\" ><label for=\"sk-estimator-id-15\" class=\"sk-toggleable__label sk-toggleable__label-arrow\">estimator: Pipeline</label><div class=\"sk-toggleable__content\"><pre>Pipeline(steps=[(&#x27;tvec&#x27;, TfidfVectorizer()),\n",
       "                (&#x27;sparse_to_dense&#x27;,\n",
       "                 FunctionTransformer(accept_sparse=True,\n",
       "                                     func=&lt;function &lt;lambda&gt; at 0x174500430&gt;)),\n",
       "                (&#x27;gaus&#x27;, GaussianNB())])</pre></div></div></div><div class=\"sk-serial\"><div class=\"sk-item\"><div class=\"sk-serial\"><div class=\"sk-item\"><div class=\"sk-estimator sk-toggleable\"><input class=\"sk-toggleable__control sk-hidden--visually\" id=\"sk-estimator-id-16\" type=\"checkbox\" ><label for=\"sk-estimator-id-16\" class=\"sk-toggleable__label sk-toggleable__label-arrow\">TfidfVectorizer</label><div class=\"sk-toggleable__content\"><pre>TfidfVectorizer()</pre></div></div></div><div class=\"sk-item\"><div class=\"sk-estimator sk-toggleable\"><input class=\"sk-toggleable__control sk-hidden--visually\" id=\"sk-estimator-id-17\" type=\"checkbox\" ><label for=\"sk-estimator-id-17\" class=\"sk-toggleable__label sk-toggleable__label-arrow\">FunctionTransformer</label><div class=\"sk-toggleable__content\"><pre>FunctionTransformer(accept_sparse=True, func=&lt;function &lt;lambda&gt; at 0x174500430&gt;)</pre></div></div></div><div class=\"sk-item\"><div class=\"sk-estimator sk-toggleable\"><input class=\"sk-toggleable__control sk-hidden--visually\" id=\"sk-estimator-id-18\" type=\"checkbox\" ><label for=\"sk-estimator-id-18\" class=\"sk-toggleable__label sk-toggleable__label-arrow\">GaussianNB</label><div class=\"sk-toggleable__content\"><pre>GaussianNB()</pre></div></div></div></div></div></div></div></div></div></div></div></div>"
      ],
      "text/plain": [
       "GridSearchCV(cv=5,\n",
       "             estimator=Pipeline(steps=[('tvec', TfidfVectorizer()),\n",
       "                                       ('sparse_to_dense',\n",
       "                                        FunctionTransformer(accept_sparse=True,\n",
       "                                                            func=<function <lambda> at 0x174500430>)),\n",
       "                                       ('gaus', GaussianNB())]),\n",
       "             param_grid={'tvec__max_df': [0.9], 'tvec__max_features': [3000],\n",
       "                         'tvec__min_df': [3], 'tvec__ngram_range': [(1, 2)]})"
      ]
     },
     "execution_count": 29,
     "metadata": {},
     "output_type": "execute_result"
    }
   ],
   "source": [
    "# Fitting the model\n",
    "sparse_to_dense = FunctionTransformer(lambda x: x.toarray(), accept_sparse=True)\n",
    "\n",
    "pipe_tfidf_gnb = Pipeline(steps=[('tvec', TfidfVectorizer()),\n",
    "                                 ('sparse_to_dense', sparse_to_dense),\n",
    "                                 ('gaus', GaussianNB())])\n",
    "\n",
    "pipe_tfidf_gnb_params = {'tvec__max_features':[3000], #2000, 3000, 4000, 5000\n",
    "                         'tvec__min_df':[3], #2, 3\n",
    "                         'tvec__max_df':[.90], #.90, .95\n",
    "                         'tvec__ngram_range':[(1,2)]} #(1,1), (1,2), (2,2)\n",
    "\n",
    "gs_tfidf_gnb = GridSearchCV(pipe_tfidf_gnb, param_grid=pipe_tfidf_gnb_params, cv=5)\n",
    "\n",
    "gs_tfidf_gnb.fit(X_train.values, y_train.values)\n"
   ]
  },
  {
   "cell_type": "code",
   "execution_count": 30,
   "id": "163f3091",
   "metadata": {},
   "outputs": [],
   "source": [
    "# Making predictions\n",
    "y_pred_tfidf_gnb_train = gs_tfidf_gnb.predict(X_train)\n",
    "y_pred_tfidf_gnb = gs_tfidf_gnb.predict(X_test)\n"
   ]
  },
  {
   "cell_type": "code",
   "execution_count": 31,
   "id": "3c46c41a",
   "metadata": {},
   "outputs": [
    {
     "name": "stdout",
     "output_type": "stream",
     "text": [
      "The f1 train score for model 4 is 0.963.\n",
      "The f1 test score for model 4 is 0.820.\n"
     ]
    }
   ],
   "source": [
    "# Metrics\n",
    "binary_f1_train = f1_score(y_train, y_pred_tfidf_gnb_train, average='binary')\n",
    "binary_f1 = f1_score(y_test, y_pred_tfidf_gnb, average='binary')\n",
    "\n",
    "print(f'The f1 train score for model 4 is {binary_f1_train:.3f}.')\n",
    "print(f'The f1 test score for model 4 is {binary_f1:.3f}.')"
   ]
  },
  {
   "cell_type": "markdown",
   "id": "5175cac5",
   "metadata": {},
   "source": [
    "### 5. TfidfVectorizer-Logistic Regression"
   ]
  },
  {
   "cell_type": "markdown",
   "id": "9aa8cf34",
   "metadata": {},
   "source": [
    "<a id='tfidf_lr'></a>"
   ]
  },
  {
   "cell_type": "code",
   "execution_count": 32,
   "id": "5554493d",
   "metadata": {},
   "outputs": [
    {
     "data": {
      "text/html": [
       "<style>#sk-container-id-6 {color: black;background-color: white;}#sk-container-id-6 pre{padding: 0;}#sk-container-id-6 div.sk-toggleable {background-color: white;}#sk-container-id-6 label.sk-toggleable__label {cursor: pointer;display: block;width: 100%;margin-bottom: 0;padding: 0.3em;box-sizing: border-box;text-align: center;}#sk-container-id-6 label.sk-toggleable__label-arrow:before {content: \"▸\";float: left;margin-right: 0.25em;color: #696969;}#sk-container-id-6 label.sk-toggleable__label-arrow:hover:before {color: black;}#sk-container-id-6 div.sk-estimator:hover label.sk-toggleable__label-arrow:before {color: black;}#sk-container-id-6 div.sk-toggleable__content {max-height: 0;max-width: 0;overflow: hidden;text-align: left;background-color: #f0f8ff;}#sk-container-id-6 div.sk-toggleable__content pre {margin: 0.2em;color: black;border-radius: 0.25em;background-color: #f0f8ff;}#sk-container-id-6 input.sk-toggleable__control:checked~div.sk-toggleable__content {max-height: 200px;max-width: 100%;overflow: auto;}#sk-container-id-6 input.sk-toggleable__control:checked~label.sk-toggleable__label-arrow:before {content: \"▾\";}#sk-container-id-6 div.sk-estimator input.sk-toggleable__control:checked~label.sk-toggleable__label {background-color: #d4ebff;}#sk-container-id-6 div.sk-label input.sk-toggleable__control:checked~label.sk-toggleable__label {background-color: #d4ebff;}#sk-container-id-6 input.sk-hidden--visually {border: 0;clip: rect(1px 1px 1px 1px);clip: rect(1px, 1px, 1px, 1px);height: 1px;margin: -1px;overflow: hidden;padding: 0;position: absolute;width: 1px;}#sk-container-id-6 div.sk-estimator {font-family: monospace;background-color: #f0f8ff;border: 1px dotted black;border-radius: 0.25em;box-sizing: border-box;margin-bottom: 0.5em;}#sk-container-id-6 div.sk-estimator:hover {background-color: #d4ebff;}#sk-container-id-6 div.sk-parallel-item::after {content: \"\";width: 100%;border-bottom: 1px solid gray;flex-grow: 1;}#sk-container-id-6 div.sk-label:hover label.sk-toggleable__label {background-color: #d4ebff;}#sk-container-id-6 div.sk-serial::before {content: \"\";position: absolute;border-left: 1px solid gray;box-sizing: border-box;top: 0;bottom: 0;left: 50%;z-index: 0;}#sk-container-id-6 div.sk-serial {display: flex;flex-direction: column;align-items: center;background-color: white;padding-right: 0.2em;padding-left: 0.2em;position: relative;}#sk-container-id-6 div.sk-item {position: relative;z-index: 1;}#sk-container-id-6 div.sk-parallel {display: flex;align-items: stretch;justify-content: center;background-color: white;position: relative;}#sk-container-id-6 div.sk-item::before, #sk-container-id-6 div.sk-parallel-item::before {content: \"\";position: absolute;border-left: 1px solid gray;box-sizing: border-box;top: 0;bottom: 0;left: 50%;z-index: -1;}#sk-container-id-6 div.sk-parallel-item {display: flex;flex-direction: column;z-index: 1;position: relative;background-color: white;}#sk-container-id-6 div.sk-parallel-item:first-child::after {align-self: flex-end;width: 50%;}#sk-container-id-6 div.sk-parallel-item:last-child::after {align-self: flex-start;width: 50%;}#sk-container-id-6 div.sk-parallel-item:only-child::after {width: 0;}#sk-container-id-6 div.sk-dashed-wrapped {border: 1px dashed gray;margin: 0 0.4em 0.5em 0.4em;box-sizing: border-box;padding-bottom: 0.4em;background-color: white;}#sk-container-id-6 div.sk-label label {font-family: monospace;font-weight: bold;display: inline-block;line-height: 1.2em;}#sk-container-id-6 div.sk-label-container {text-align: center;}#sk-container-id-6 div.sk-container {/* jupyter's `normalize.less` sets `[hidden] { display: none; }` but bootstrap.min.css set `[hidden] { display: none !important; }` so we also need the `!important` here to be able to override the default hidden behavior on the sphinx rendered scikit-learn.org. See: https://github.com/scikit-learn/scikit-learn/issues/21755 */display: inline-block !important;position: relative;}#sk-container-id-6 div.sk-text-repr-fallback {display: none;}</style><div id=\"sk-container-id-6\" class=\"sk-top-container\"><div class=\"sk-text-repr-fallback\"><pre>GridSearchCV(cv=3,\n",
       "             estimator=Pipeline(steps=[(&#x27;tvec&#x27;, TfidfVectorizer()),\n",
       "                                       (&#x27;logreg&#x27;, LogisticRegression())]),\n",
       "             param_grid={&#x27;logreg__C&#x27;: [1], &#x27;tvec__max_df&#x27;: [0.85],\n",
       "                         &#x27;tvec__max_features&#x27;: [4000], &#x27;tvec__min_df&#x27;: [2],\n",
       "                         &#x27;tvec__ngram_range&#x27;: [(1, 3)]})</pre><b>In a Jupyter environment, please rerun this cell to show the HTML representation or trust the notebook. <br />On GitHub, the HTML representation is unable to render, please try loading this page with nbviewer.org.</b></div><div class=\"sk-container\" hidden><div class=\"sk-item sk-dashed-wrapped\"><div class=\"sk-label-container\"><div class=\"sk-label sk-toggleable\"><input class=\"sk-toggleable__control sk-hidden--visually\" id=\"sk-estimator-id-19\" type=\"checkbox\" ><label for=\"sk-estimator-id-19\" class=\"sk-toggleable__label sk-toggleable__label-arrow\">GridSearchCV</label><div class=\"sk-toggleable__content\"><pre>GridSearchCV(cv=3,\n",
       "             estimator=Pipeline(steps=[(&#x27;tvec&#x27;, TfidfVectorizer()),\n",
       "                                       (&#x27;logreg&#x27;, LogisticRegression())]),\n",
       "             param_grid={&#x27;logreg__C&#x27;: [1], &#x27;tvec__max_df&#x27;: [0.85],\n",
       "                         &#x27;tvec__max_features&#x27;: [4000], &#x27;tvec__min_df&#x27;: [2],\n",
       "                         &#x27;tvec__ngram_range&#x27;: [(1, 3)]})</pre></div></div></div><div class=\"sk-parallel\"><div class=\"sk-parallel-item\"><div class=\"sk-item\"><div class=\"sk-label-container\"><div class=\"sk-label sk-toggleable\"><input class=\"sk-toggleable__control sk-hidden--visually\" id=\"sk-estimator-id-20\" type=\"checkbox\" ><label for=\"sk-estimator-id-20\" class=\"sk-toggleable__label sk-toggleable__label-arrow\">estimator: Pipeline</label><div class=\"sk-toggleable__content\"><pre>Pipeline(steps=[(&#x27;tvec&#x27;, TfidfVectorizer()), (&#x27;logreg&#x27;, LogisticRegression())])</pre></div></div></div><div class=\"sk-serial\"><div class=\"sk-item\"><div class=\"sk-serial\"><div class=\"sk-item\"><div class=\"sk-estimator sk-toggleable\"><input class=\"sk-toggleable__control sk-hidden--visually\" id=\"sk-estimator-id-21\" type=\"checkbox\" ><label for=\"sk-estimator-id-21\" class=\"sk-toggleable__label sk-toggleable__label-arrow\">TfidfVectorizer</label><div class=\"sk-toggleable__content\"><pre>TfidfVectorizer()</pre></div></div></div><div class=\"sk-item\"><div class=\"sk-estimator sk-toggleable\"><input class=\"sk-toggleable__control sk-hidden--visually\" id=\"sk-estimator-id-22\" type=\"checkbox\" ><label for=\"sk-estimator-id-22\" class=\"sk-toggleable__label sk-toggleable__label-arrow\">LogisticRegression</label><div class=\"sk-toggleable__content\"><pre>LogisticRegression()</pre></div></div></div></div></div></div></div></div></div></div></div></div>"
      ],
      "text/plain": [
       "GridSearchCV(cv=3,\n",
       "             estimator=Pipeline(steps=[('tvec', TfidfVectorizer()),\n",
       "                                       ('logreg', LogisticRegression())]),\n",
       "             param_grid={'logreg__C': [1], 'tvec__max_df': [0.85],\n",
       "                         'tvec__max_features': [4000], 'tvec__min_df': [2],\n",
       "                         'tvec__ngram_range': [(1, 3)]})"
      ]
     },
     "execution_count": 32,
     "metadata": {},
     "output_type": "execute_result"
    }
   ],
   "source": [
    "# Fitting the model\n",
    "pipe_tfidf_lr = Pipeline(steps=[('tvec', TfidfVectorizer()),\n",
    "                               ('logreg', LogisticRegression())])\n",
    "\n",
    "pipe_tfidf_lr_params = {'tvec__max_features':[4000], #2000, 3000, 4000, 5000\n",
    "                       'tvec__min_df':[2], #2, 3\n",
    "                       'tvec__max_df':[.85], #.85, .90, .95\n",
    "                       'tvec__ngram_range':[(1,3)], #(1,1), (1,2), (2,2), (1,3)\n",
    "                       'logreg__C': [1]} #0.01, 0.1, 1\n",
    "\n",
    "gs_tfidf_lr = GridSearchCV(pipe_tfidf_lr, param_grid=pipe_tfidf_lr_params, cv=3)\n",
    "\n",
    "gs_tfidf_lr.fit(X_train, y_train)\n"
   ]
  },
  {
   "cell_type": "code",
   "execution_count": 33,
   "id": "46198307",
   "metadata": {},
   "outputs": [],
   "source": [
    "# Making predictions\n",
    "y_pred_tfidf_lr_train = gs_tfidf_lr.predict(X_train)\n",
    "y_pred_tfidf_lr = gs_tfidf_lr.predict(X_test)\n",
    "y_pred_proba_tfidf_lr = gs_tfidf_lr.predict_proba(X_test)\n"
   ]
  },
  {
   "cell_type": "code",
   "execution_count": 34,
   "id": "bed12b3e",
   "metadata": {},
   "outputs": [
    {
     "name": "stdout",
     "output_type": "stream",
     "text": [
      "The f1 train score for model 5 is 0.974.\n",
      "The f1 test score for model 5 is 0.923.\n"
     ]
    }
   ],
   "source": [
    "# Metrics\n",
    "binary_f1_train = f1_score(y_train, y_pred_tfidf_lr_train, average='binary')\n",
    "binary_f1 = f1_score(y_test, y_pred_tfidf_lr, average='binary')\n",
    "\n",
    "print(f'The f1 train score for model 5 is {binary_f1_train:.3f}.')\n",
    "print(f'The f1 test score for model 5 is {binary_f1:.3f}.')"
   ]
  },
  {
   "cell_type": "markdown",
   "id": "f7592b57",
   "metadata": {},
   "source": [
    "### CountVectorizer Models"
   ]
  },
  {
   "cell_type": "markdown",
   "id": "58cdf36f",
   "metadata": {},
   "source": [
    "<a id='cv'></a>"
   ]
  },
  {
   "cell_type": "markdown",
   "id": "5ef16e46",
   "metadata": {},
   "source": [
    "### 6. CountVectorizer-KNN"
   ]
  },
  {
   "cell_type": "markdown",
   "id": "0a7064cd",
   "metadata": {},
   "source": [
    "<a id='cv_knn'></a>"
   ]
  },
  {
   "cell_type": "code",
   "execution_count": 35,
   "id": "65d4105e",
   "metadata": {},
   "outputs": [
    {
     "data": {
      "text/html": [
       "<style>#sk-container-id-7 {color: black;background-color: white;}#sk-container-id-7 pre{padding: 0;}#sk-container-id-7 div.sk-toggleable {background-color: white;}#sk-container-id-7 label.sk-toggleable__label {cursor: pointer;display: block;width: 100%;margin-bottom: 0;padding: 0.3em;box-sizing: border-box;text-align: center;}#sk-container-id-7 label.sk-toggleable__label-arrow:before {content: \"▸\";float: left;margin-right: 0.25em;color: #696969;}#sk-container-id-7 label.sk-toggleable__label-arrow:hover:before {color: black;}#sk-container-id-7 div.sk-estimator:hover label.sk-toggleable__label-arrow:before {color: black;}#sk-container-id-7 div.sk-toggleable__content {max-height: 0;max-width: 0;overflow: hidden;text-align: left;background-color: #f0f8ff;}#sk-container-id-7 div.sk-toggleable__content pre {margin: 0.2em;color: black;border-radius: 0.25em;background-color: #f0f8ff;}#sk-container-id-7 input.sk-toggleable__control:checked~div.sk-toggleable__content {max-height: 200px;max-width: 100%;overflow: auto;}#sk-container-id-7 input.sk-toggleable__control:checked~label.sk-toggleable__label-arrow:before {content: \"▾\";}#sk-container-id-7 div.sk-estimator input.sk-toggleable__control:checked~label.sk-toggleable__label {background-color: #d4ebff;}#sk-container-id-7 div.sk-label input.sk-toggleable__control:checked~label.sk-toggleable__label {background-color: #d4ebff;}#sk-container-id-7 input.sk-hidden--visually {border: 0;clip: rect(1px 1px 1px 1px);clip: rect(1px, 1px, 1px, 1px);height: 1px;margin: -1px;overflow: hidden;padding: 0;position: absolute;width: 1px;}#sk-container-id-7 div.sk-estimator {font-family: monospace;background-color: #f0f8ff;border: 1px dotted black;border-radius: 0.25em;box-sizing: border-box;margin-bottom: 0.5em;}#sk-container-id-7 div.sk-estimator:hover {background-color: #d4ebff;}#sk-container-id-7 div.sk-parallel-item::after {content: \"\";width: 100%;border-bottom: 1px solid gray;flex-grow: 1;}#sk-container-id-7 div.sk-label:hover label.sk-toggleable__label {background-color: #d4ebff;}#sk-container-id-7 div.sk-serial::before {content: \"\";position: absolute;border-left: 1px solid gray;box-sizing: border-box;top: 0;bottom: 0;left: 50%;z-index: 0;}#sk-container-id-7 div.sk-serial {display: flex;flex-direction: column;align-items: center;background-color: white;padding-right: 0.2em;padding-left: 0.2em;position: relative;}#sk-container-id-7 div.sk-item {position: relative;z-index: 1;}#sk-container-id-7 div.sk-parallel {display: flex;align-items: stretch;justify-content: center;background-color: white;position: relative;}#sk-container-id-7 div.sk-item::before, #sk-container-id-7 div.sk-parallel-item::before {content: \"\";position: absolute;border-left: 1px solid gray;box-sizing: border-box;top: 0;bottom: 0;left: 50%;z-index: -1;}#sk-container-id-7 div.sk-parallel-item {display: flex;flex-direction: column;z-index: 1;position: relative;background-color: white;}#sk-container-id-7 div.sk-parallel-item:first-child::after {align-self: flex-end;width: 50%;}#sk-container-id-7 div.sk-parallel-item:last-child::after {align-self: flex-start;width: 50%;}#sk-container-id-7 div.sk-parallel-item:only-child::after {width: 0;}#sk-container-id-7 div.sk-dashed-wrapped {border: 1px dashed gray;margin: 0 0.4em 0.5em 0.4em;box-sizing: border-box;padding-bottom: 0.4em;background-color: white;}#sk-container-id-7 div.sk-label label {font-family: monospace;font-weight: bold;display: inline-block;line-height: 1.2em;}#sk-container-id-7 div.sk-label-container {text-align: center;}#sk-container-id-7 div.sk-container {/* jupyter's `normalize.less` sets `[hidden] { display: none; }` but bootstrap.min.css set `[hidden] { display: none !important; }` so we also need the `!important` here to be able to override the default hidden behavior on the sphinx rendered scikit-learn.org. See: https://github.com/scikit-learn/scikit-learn/issues/21755 */display: inline-block !important;position: relative;}#sk-container-id-7 div.sk-text-repr-fallback {display: none;}</style><div id=\"sk-container-id-7\" class=\"sk-top-container\"><div class=\"sk-text-repr-fallback\"><pre>GridSearchCV(cv=3,\n",
       "             estimator=Pipeline(steps=[(&#x27;cvec&#x27;, CountVectorizer()),\n",
       "                                       (&#x27;knn&#x27;, KNeighborsClassifier())]),\n",
       "             param_grid={&#x27;cvec__max_df&#x27;: [0.9], &#x27;cvec__max_features&#x27;: [2000],\n",
       "                         &#x27;cvec__min_df&#x27;: [2], &#x27;cvec__ngram_range&#x27;: [(1, 1)],\n",
       "                         &#x27;knn__metric&#x27;: [&#x27;euclidean&#x27;],\n",
       "                         &#x27;knn__n_neighbors&#x27;: [1]})</pre><b>In a Jupyter environment, please rerun this cell to show the HTML representation or trust the notebook. <br />On GitHub, the HTML representation is unable to render, please try loading this page with nbviewer.org.</b></div><div class=\"sk-container\" hidden><div class=\"sk-item sk-dashed-wrapped\"><div class=\"sk-label-container\"><div class=\"sk-label sk-toggleable\"><input class=\"sk-toggleable__control sk-hidden--visually\" id=\"sk-estimator-id-23\" type=\"checkbox\" ><label for=\"sk-estimator-id-23\" class=\"sk-toggleable__label sk-toggleable__label-arrow\">GridSearchCV</label><div class=\"sk-toggleable__content\"><pre>GridSearchCV(cv=3,\n",
       "             estimator=Pipeline(steps=[(&#x27;cvec&#x27;, CountVectorizer()),\n",
       "                                       (&#x27;knn&#x27;, KNeighborsClassifier())]),\n",
       "             param_grid={&#x27;cvec__max_df&#x27;: [0.9], &#x27;cvec__max_features&#x27;: [2000],\n",
       "                         &#x27;cvec__min_df&#x27;: [2], &#x27;cvec__ngram_range&#x27;: [(1, 1)],\n",
       "                         &#x27;knn__metric&#x27;: [&#x27;euclidean&#x27;],\n",
       "                         &#x27;knn__n_neighbors&#x27;: [1]})</pre></div></div></div><div class=\"sk-parallel\"><div class=\"sk-parallel-item\"><div class=\"sk-item\"><div class=\"sk-label-container\"><div class=\"sk-label sk-toggleable\"><input class=\"sk-toggleable__control sk-hidden--visually\" id=\"sk-estimator-id-24\" type=\"checkbox\" ><label for=\"sk-estimator-id-24\" class=\"sk-toggleable__label sk-toggleable__label-arrow\">estimator: Pipeline</label><div class=\"sk-toggleable__content\"><pre>Pipeline(steps=[(&#x27;cvec&#x27;, CountVectorizer()), (&#x27;knn&#x27;, KNeighborsClassifier())])</pre></div></div></div><div class=\"sk-serial\"><div class=\"sk-item\"><div class=\"sk-serial\"><div class=\"sk-item\"><div class=\"sk-estimator sk-toggleable\"><input class=\"sk-toggleable__control sk-hidden--visually\" id=\"sk-estimator-id-25\" type=\"checkbox\" ><label for=\"sk-estimator-id-25\" class=\"sk-toggleable__label sk-toggleable__label-arrow\">CountVectorizer</label><div class=\"sk-toggleable__content\"><pre>CountVectorizer()</pre></div></div></div><div class=\"sk-item\"><div class=\"sk-estimator sk-toggleable\"><input class=\"sk-toggleable__control sk-hidden--visually\" id=\"sk-estimator-id-26\" type=\"checkbox\" ><label for=\"sk-estimator-id-26\" class=\"sk-toggleable__label sk-toggleable__label-arrow\">KNeighborsClassifier</label><div class=\"sk-toggleable__content\"><pre>KNeighborsClassifier()</pre></div></div></div></div></div></div></div></div></div></div></div></div>"
      ],
      "text/plain": [
       "GridSearchCV(cv=3,\n",
       "             estimator=Pipeline(steps=[('cvec', CountVectorizer()),\n",
       "                                       ('knn', KNeighborsClassifier())]),\n",
       "             param_grid={'cvec__max_df': [0.9], 'cvec__max_features': [2000],\n",
       "                         'cvec__min_df': [2], 'cvec__ngram_range': [(1, 1)],\n",
       "                         'knn__metric': ['euclidean'],\n",
       "                         'knn__n_neighbors': [1]})"
      ]
     },
     "execution_count": 35,
     "metadata": {},
     "output_type": "execute_result"
    }
   ],
   "source": [
    "pipe_cv_knn = Pipeline(steps=[('cvec', CountVectorizer()),\n",
    "                                ('knn', KNeighborsClassifier())])\n",
    "\n",
    "pipe_cv_knn_params = {'cvec__max_features':[2000], #2000, 3000, 4000, 5000\n",
    "                        'cvec__min_df':[2], #2, 3\n",
    "                        'cvec__max_df':[.90], #.90, .95\n",
    "                        'cvec__ngram_range':[(1,1)], #(1,1),(1,2),(2,2)\n",
    "                        'knn__n_neighbors': [1], #list(range(1,51,10))\n",
    "                        'knn__metric': ['euclidean']} # 'euclidean', 'manhattan' \n",
    "\n",
    "gs_cv_knn = GridSearchCV(pipe_cv_knn, param_grid=pipe_cv_knn_params, cv=3)\n",
    "\n",
    "gs_cv_knn.fit(X_train, y_train)\n"
   ]
  },
  {
   "cell_type": "code",
   "execution_count": 36,
   "id": "ea552831",
   "metadata": {},
   "outputs": [],
   "source": [
    "# Making predictions\n",
    "y_pred_cv_knn_train = gs_cv_knn.predict(X_train)\n",
    "y_pred_cv_knn = gs_cv_knn.predict(X_test)"
   ]
  },
  {
   "cell_type": "code",
   "execution_count": 37,
   "id": "ef5ad1f8",
   "metadata": {},
   "outputs": [
    {
     "name": "stdout",
     "output_type": "stream",
     "text": [
      "The f1 train score for model 6 is 1.000.\n",
      "The f1 test score for model 6 is 0.750.\n"
     ]
    }
   ],
   "source": [
    "# Metrics\n",
    "binary_f1_train = f1_score(y_train, y_pred_cv_knn_train, average='binary')\n",
    "binary_f1 = f1_score(y_test, y_pred_cv_knn, average='binary')\n",
    "\n",
    "print(f'The f1 train score for model 6 is {binary_f1_train:.3f}.')\n",
    "print(f'The f1 test score for model 6 is {binary_f1:.3f}.')"
   ]
  },
  {
   "cell_type": "markdown",
   "id": "c7f4316a",
   "metadata": {},
   "source": [
    "### 7. CountVectorizer-Bernoulli NB"
   ]
  },
  {
   "cell_type": "markdown",
   "id": "950426d1",
   "metadata": {},
   "source": [
    "<a id='cv_bnb'></a>"
   ]
  },
  {
   "cell_type": "code",
   "execution_count": 38,
   "id": "ae9d6854",
   "metadata": {},
   "outputs": [
    {
     "data": {
      "text/html": [
       "<style>#sk-container-id-8 {color: black;background-color: white;}#sk-container-id-8 pre{padding: 0;}#sk-container-id-8 div.sk-toggleable {background-color: white;}#sk-container-id-8 label.sk-toggleable__label {cursor: pointer;display: block;width: 100%;margin-bottom: 0;padding: 0.3em;box-sizing: border-box;text-align: center;}#sk-container-id-8 label.sk-toggleable__label-arrow:before {content: \"▸\";float: left;margin-right: 0.25em;color: #696969;}#sk-container-id-8 label.sk-toggleable__label-arrow:hover:before {color: black;}#sk-container-id-8 div.sk-estimator:hover label.sk-toggleable__label-arrow:before {color: black;}#sk-container-id-8 div.sk-toggleable__content {max-height: 0;max-width: 0;overflow: hidden;text-align: left;background-color: #f0f8ff;}#sk-container-id-8 div.sk-toggleable__content pre {margin: 0.2em;color: black;border-radius: 0.25em;background-color: #f0f8ff;}#sk-container-id-8 input.sk-toggleable__control:checked~div.sk-toggleable__content {max-height: 200px;max-width: 100%;overflow: auto;}#sk-container-id-8 input.sk-toggleable__control:checked~label.sk-toggleable__label-arrow:before {content: \"▾\";}#sk-container-id-8 div.sk-estimator input.sk-toggleable__control:checked~label.sk-toggleable__label {background-color: #d4ebff;}#sk-container-id-8 div.sk-label input.sk-toggleable__control:checked~label.sk-toggleable__label {background-color: #d4ebff;}#sk-container-id-8 input.sk-hidden--visually {border: 0;clip: rect(1px 1px 1px 1px);clip: rect(1px, 1px, 1px, 1px);height: 1px;margin: -1px;overflow: hidden;padding: 0;position: absolute;width: 1px;}#sk-container-id-8 div.sk-estimator {font-family: monospace;background-color: #f0f8ff;border: 1px dotted black;border-radius: 0.25em;box-sizing: border-box;margin-bottom: 0.5em;}#sk-container-id-8 div.sk-estimator:hover {background-color: #d4ebff;}#sk-container-id-8 div.sk-parallel-item::after {content: \"\";width: 100%;border-bottom: 1px solid gray;flex-grow: 1;}#sk-container-id-8 div.sk-label:hover label.sk-toggleable__label {background-color: #d4ebff;}#sk-container-id-8 div.sk-serial::before {content: \"\";position: absolute;border-left: 1px solid gray;box-sizing: border-box;top: 0;bottom: 0;left: 50%;z-index: 0;}#sk-container-id-8 div.sk-serial {display: flex;flex-direction: column;align-items: center;background-color: white;padding-right: 0.2em;padding-left: 0.2em;position: relative;}#sk-container-id-8 div.sk-item {position: relative;z-index: 1;}#sk-container-id-8 div.sk-parallel {display: flex;align-items: stretch;justify-content: center;background-color: white;position: relative;}#sk-container-id-8 div.sk-item::before, #sk-container-id-8 div.sk-parallel-item::before {content: \"\";position: absolute;border-left: 1px solid gray;box-sizing: border-box;top: 0;bottom: 0;left: 50%;z-index: -1;}#sk-container-id-8 div.sk-parallel-item {display: flex;flex-direction: column;z-index: 1;position: relative;background-color: white;}#sk-container-id-8 div.sk-parallel-item:first-child::after {align-self: flex-end;width: 50%;}#sk-container-id-8 div.sk-parallel-item:last-child::after {align-self: flex-start;width: 50%;}#sk-container-id-8 div.sk-parallel-item:only-child::after {width: 0;}#sk-container-id-8 div.sk-dashed-wrapped {border: 1px dashed gray;margin: 0 0.4em 0.5em 0.4em;box-sizing: border-box;padding-bottom: 0.4em;background-color: white;}#sk-container-id-8 div.sk-label label {font-family: monospace;font-weight: bold;display: inline-block;line-height: 1.2em;}#sk-container-id-8 div.sk-label-container {text-align: center;}#sk-container-id-8 div.sk-container {/* jupyter's `normalize.less` sets `[hidden] { display: none; }` but bootstrap.min.css set `[hidden] { display: none !important; }` so we also need the `!important` here to be able to override the default hidden behavior on the sphinx rendered scikit-learn.org. See: https://github.com/scikit-learn/scikit-learn/issues/21755 */display: inline-block !important;position: relative;}#sk-container-id-8 div.sk-text-repr-fallback {display: none;}</style><div id=\"sk-container-id-8\" class=\"sk-top-container\"><div class=\"sk-text-repr-fallback\"><pre>GridSearchCV(cv=5,\n",
       "             estimator=Pipeline(steps=[(&#x27;cvec&#x27;, CountVectorizer()),\n",
       "                                       (&#x27;bern&#x27;, BernoulliNB())]),\n",
       "             param_grid={&#x27;bern__binarize&#x27;: [1], &#x27;cvec__max_df&#x27;: [0.9],\n",
       "                         &#x27;cvec__max_features&#x27;: [4000], &#x27;cvec__min_df&#x27;: [2],\n",
       "                         &#x27;cvec__ngram_range&#x27;: [(1, 1)]})</pre><b>In a Jupyter environment, please rerun this cell to show the HTML representation or trust the notebook. <br />On GitHub, the HTML representation is unable to render, please try loading this page with nbviewer.org.</b></div><div class=\"sk-container\" hidden><div class=\"sk-item sk-dashed-wrapped\"><div class=\"sk-label-container\"><div class=\"sk-label sk-toggleable\"><input class=\"sk-toggleable__control sk-hidden--visually\" id=\"sk-estimator-id-27\" type=\"checkbox\" ><label for=\"sk-estimator-id-27\" class=\"sk-toggleable__label sk-toggleable__label-arrow\">GridSearchCV</label><div class=\"sk-toggleable__content\"><pre>GridSearchCV(cv=5,\n",
       "             estimator=Pipeline(steps=[(&#x27;cvec&#x27;, CountVectorizer()),\n",
       "                                       (&#x27;bern&#x27;, BernoulliNB())]),\n",
       "             param_grid={&#x27;bern__binarize&#x27;: [1], &#x27;cvec__max_df&#x27;: [0.9],\n",
       "                         &#x27;cvec__max_features&#x27;: [4000], &#x27;cvec__min_df&#x27;: [2],\n",
       "                         &#x27;cvec__ngram_range&#x27;: [(1, 1)]})</pre></div></div></div><div class=\"sk-parallel\"><div class=\"sk-parallel-item\"><div class=\"sk-item\"><div class=\"sk-label-container\"><div class=\"sk-label sk-toggleable\"><input class=\"sk-toggleable__control sk-hidden--visually\" id=\"sk-estimator-id-28\" type=\"checkbox\" ><label for=\"sk-estimator-id-28\" class=\"sk-toggleable__label sk-toggleable__label-arrow\">estimator: Pipeline</label><div class=\"sk-toggleable__content\"><pre>Pipeline(steps=[(&#x27;cvec&#x27;, CountVectorizer()), (&#x27;bern&#x27;, BernoulliNB())])</pre></div></div></div><div class=\"sk-serial\"><div class=\"sk-item\"><div class=\"sk-serial\"><div class=\"sk-item\"><div class=\"sk-estimator sk-toggleable\"><input class=\"sk-toggleable__control sk-hidden--visually\" id=\"sk-estimator-id-29\" type=\"checkbox\" ><label for=\"sk-estimator-id-29\" class=\"sk-toggleable__label sk-toggleable__label-arrow\">CountVectorizer</label><div class=\"sk-toggleable__content\"><pre>CountVectorizer()</pre></div></div></div><div class=\"sk-item\"><div class=\"sk-estimator sk-toggleable\"><input class=\"sk-toggleable__control sk-hidden--visually\" id=\"sk-estimator-id-30\" type=\"checkbox\" ><label for=\"sk-estimator-id-30\" class=\"sk-toggleable__label sk-toggleable__label-arrow\">BernoulliNB</label><div class=\"sk-toggleable__content\"><pre>BernoulliNB()</pre></div></div></div></div></div></div></div></div></div></div></div></div>"
      ],
      "text/plain": [
       "GridSearchCV(cv=5,\n",
       "             estimator=Pipeline(steps=[('cvec', CountVectorizer()),\n",
       "                                       ('bern', BernoulliNB())]),\n",
       "             param_grid={'bern__binarize': [1], 'cvec__max_df': [0.9],\n",
       "                         'cvec__max_features': [4000], 'cvec__min_df': [2],\n",
       "                         'cvec__ngram_range': [(1, 1)]})"
      ]
     },
     "execution_count": 38,
     "metadata": {},
     "output_type": "execute_result"
    }
   ],
   "source": [
    "# Fitting the cv/bern model\n",
    "pipe_cv_bnb = Pipeline(steps=[('cvec', CountVectorizer()),\n",
    "                                 ('bern', BernoulliNB())])\n",
    "\n",
    "pipe_cv_bnb_params = {'cvec__max_features':[4000], #2000, 3000, 4000, 5000\n",
    "                         'cvec__min_df':[2], #2, 3\n",
    "                         'cvec__max_df':[.90], #.90, .95\n",
    "                         'cvec__ngram_range':[(1,1)], #(1,1),(1,2),(2,2)\n",
    "                         'bern__binarize': [1]} #np.arange(0, 5, 1)\n",
    "\n",
    "gs_cv_bnb = GridSearchCV(pipe_cv_bnb,\n",
    "                           param_grid=pipe_cv_bnb_params,\n",
    "                           cv=5)\n",
    "\n",
    "gs_cv_bnb.fit(X_train, y_train)\n",
    "\n"
   ]
  },
  {
   "cell_type": "code",
   "execution_count": 39,
   "id": "656e8650",
   "metadata": {},
   "outputs": [],
   "source": [
    "# Making predictions\n",
    "y_pred_cv_bnb_train = gs_cv_bnb.predict(X_train)\n",
    "y_pred_cv_bnb = gs_cv_bnb.predict(X_test)"
   ]
  },
  {
   "cell_type": "code",
   "execution_count": 40,
   "id": "e75347ae",
   "metadata": {},
   "outputs": [
    {
     "name": "stdout",
     "output_type": "stream",
     "text": [
      "The f1 train score for model 7 is 0.841.\n",
      "The f1 test score for model 7 is 0.813.\n"
     ]
    }
   ],
   "source": [
    "# Metrics\n",
    "binary_f1_train = f1_score(y_train, y_pred_cv_bnb_train, average='binary')\n",
    "binary_f1 = f1_score(y_test, y_pred_cv_bnb, average='binary')\n",
    "\n",
    "print(f'The f1 train score for model 7 is {binary_f1_train:.3f}.')\n",
    "print(f'The f1 test score for model 7 is {binary_f1:.3f}.')"
   ]
  },
  {
   "cell_type": "markdown",
   "id": "f5235895",
   "metadata": {},
   "source": [
    "### 8. CountVectorizer-Multinomial NB"
   ]
  },
  {
   "cell_type": "markdown",
   "id": "f2ed553f",
   "metadata": {},
   "source": [
    "<a id='cv_mnb'></a>"
   ]
  },
  {
   "cell_type": "code",
   "execution_count": 41,
   "id": "40809844",
   "metadata": {},
   "outputs": [
    {
     "data": {
      "text/html": [
       "<style>#sk-container-id-9 {color: black;background-color: white;}#sk-container-id-9 pre{padding: 0;}#sk-container-id-9 div.sk-toggleable {background-color: white;}#sk-container-id-9 label.sk-toggleable__label {cursor: pointer;display: block;width: 100%;margin-bottom: 0;padding: 0.3em;box-sizing: border-box;text-align: center;}#sk-container-id-9 label.sk-toggleable__label-arrow:before {content: \"▸\";float: left;margin-right: 0.25em;color: #696969;}#sk-container-id-9 label.sk-toggleable__label-arrow:hover:before {color: black;}#sk-container-id-9 div.sk-estimator:hover label.sk-toggleable__label-arrow:before {color: black;}#sk-container-id-9 div.sk-toggleable__content {max-height: 0;max-width: 0;overflow: hidden;text-align: left;background-color: #f0f8ff;}#sk-container-id-9 div.sk-toggleable__content pre {margin: 0.2em;color: black;border-radius: 0.25em;background-color: #f0f8ff;}#sk-container-id-9 input.sk-toggleable__control:checked~div.sk-toggleable__content {max-height: 200px;max-width: 100%;overflow: auto;}#sk-container-id-9 input.sk-toggleable__control:checked~label.sk-toggleable__label-arrow:before {content: \"▾\";}#sk-container-id-9 div.sk-estimator input.sk-toggleable__control:checked~label.sk-toggleable__label {background-color: #d4ebff;}#sk-container-id-9 div.sk-label input.sk-toggleable__control:checked~label.sk-toggleable__label {background-color: #d4ebff;}#sk-container-id-9 input.sk-hidden--visually {border: 0;clip: rect(1px 1px 1px 1px);clip: rect(1px, 1px, 1px, 1px);height: 1px;margin: -1px;overflow: hidden;padding: 0;position: absolute;width: 1px;}#sk-container-id-9 div.sk-estimator {font-family: monospace;background-color: #f0f8ff;border: 1px dotted black;border-radius: 0.25em;box-sizing: border-box;margin-bottom: 0.5em;}#sk-container-id-9 div.sk-estimator:hover {background-color: #d4ebff;}#sk-container-id-9 div.sk-parallel-item::after {content: \"\";width: 100%;border-bottom: 1px solid gray;flex-grow: 1;}#sk-container-id-9 div.sk-label:hover label.sk-toggleable__label {background-color: #d4ebff;}#sk-container-id-9 div.sk-serial::before {content: \"\";position: absolute;border-left: 1px solid gray;box-sizing: border-box;top: 0;bottom: 0;left: 50%;z-index: 0;}#sk-container-id-9 div.sk-serial {display: flex;flex-direction: column;align-items: center;background-color: white;padding-right: 0.2em;padding-left: 0.2em;position: relative;}#sk-container-id-9 div.sk-item {position: relative;z-index: 1;}#sk-container-id-9 div.sk-parallel {display: flex;align-items: stretch;justify-content: center;background-color: white;position: relative;}#sk-container-id-9 div.sk-item::before, #sk-container-id-9 div.sk-parallel-item::before {content: \"\";position: absolute;border-left: 1px solid gray;box-sizing: border-box;top: 0;bottom: 0;left: 50%;z-index: -1;}#sk-container-id-9 div.sk-parallel-item {display: flex;flex-direction: column;z-index: 1;position: relative;background-color: white;}#sk-container-id-9 div.sk-parallel-item:first-child::after {align-self: flex-end;width: 50%;}#sk-container-id-9 div.sk-parallel-item:last-child::after {align-self: flex-start;width: 50%;}#sk-container-id-9 div.sk-parallel-item:only-child::after {width: 0;}#sk-container-id-9 div.sk-dashed-wrapped {border: 1px dashed gray;margin: 0 0.4em 0.5em 0.4em;box-sizing: border-box;padding-bottom: 0.4em;background-color: white;}#sk-container-id-9 div.sk-label label {font-family: monospace;font-weight: bold;display: inline-block;line-height: 1.2em;}#sk-container-id-9 div.sk-label-container {text-align: center;}#sk-container-id-9 div.sk-container {/* jupyter's `normalize.less` sets `[hidden] { display: none; }` but bootstrap.min.css set `[hidden] { display: none !important; }` so we also need the `!important` here to be able to override the default hidden behavior on the sphinx rendered scikit-learn.org. See: https://github.com/scikit-learn/scikit-learn/issues/21755 */display: inline-block !important;position: relative;}#sk-container-id-9 div.sk-text-repr-fallback {display: none;}</style><div id=\"sk-container-id-9\" class=\"sk-top-container\"><div class=\"sk-text-repr-fallback\"><pre>GridSearchCV(cv=5,\n",
       "             estimator=Pipeline(steps=[(&#x27;cvec&#x27;, CountVectorizer()),\n",
       "                                       (&#x27;multi&#x27;, MultinomialNB())]),\n",
       "             param_grid={&#x27;cvec__max_df&#x27;: [0.9], &#x27;cvec__max_features&#x27;: [4000],\n",
       "                         &#x27;cvec__min_df&#x27;: [3], &#x27;cvec__ngram_range&#x27;: [(1, 2)]})</pre><b>In a Jupyter environment, please rerun this cell to show the HTML representation or trust the notebook. <br />On GitHub, the HTML representation is unable to render, please try loading this page with nbviewer.org.</b></div><div class=\"sk-container\" hidden><div class=\"sk-item sk-dashed-wrapped\"><div class=\"sk-label-container\"><div class=\"sk-label sk-toggleable\"><input class=\"sk-toggleable__control sk-hidden--visually\" id=\"sk-estimator-id-31\" type=\"checkbox\" ><label for=\"sk-estimator-id-31\" class=\"sk-toggleable__label sk-toggleable__label-arrow\">GridSearchCV</label><div class=\"sk-toggleable__content\"><pre>GridSearchCV(cv=5,\n",
       "             estimator=Pipeline(steps=[(&#x27;cvec&#x27;, CountVectorizer()),\n",
       "                                       (&#x27;multi&#x27;, MultinomialNB())]),\n",
       "             param_grid={&#x27;cvec__max_df&#x27;: [0.9], &#x27;cvec__max_features&#x27;: [4000],\n",
       "                         &#x27;cvec__min_df&#x27;: [3], &#x27;cvec__ngram_range&#x27;: [(1, 2)]})</pre></div></div></div><div class=\"sk-parallel\"><div class=\"sk-parallel-item\"><div class=\"sk-item\"><div class=\"sk-label-container\"><div class=\"sk-label sk-toggleable\"><input class=\"sk-toggleable__control sk-hidden--visually\" id=\"sk-estimator-id-32\" type=\"checkbox\" ><label for=\"sk-estimator-id-32\" class=\"sk-toggleable__label sk-toggleable__label-arrow\">estimator: Pipeline</label><div class=\"sk-toggleable__content\"><pre>Pipeline(steps=[(&#x27;cvec&#x27;, CountVectorizer()), (&#x27;multi&#x27;, MultinomialNB())])</pre></div></div></div><div class=\"sk-serial\"><div class=\"sk-item\"><div class=\"sk-serial\"><div class=\"sk-item\"><div class=\"sk-estimator sk-toggleable\"><input class=\"sk-toggleable__control sk-hidden--visually\" id=\"sk-estimator-id-33\" type=\"checkbox\" ><label for=\"sk-estimator-id-33\" class=\"sk-toggleable__label sk-toggleable__label-arrow\">CountVectorizer</label><div class=\"sk-toggleable__content\"><pre>CountVectorizer()</pre></div></div></div><div class=\"sk-item\"><div class=\"sk-estimator sk-toggleable\"><input class=\"sk-toggleable__control sk-hidden--visually\" id=\"sk-estimator-id-34\" type=\"checkbox\" ><label for=\"sk-estimator-id-34\" class=\"sk-toggleable__label sk-toggleable__label-arrow\">MultinomialNB</label><div class=\"sk-toggleable__content\"><pre>MultinomialNB()</pre></div></div></div></div></div></div></div></div></div></div></div></div>"
      ],
      "text/plain": [
       "GridSearchCV(cv=5,\n",
       "             estimator=Pipeline(steps=[('cvec', CountVectorizer()),\n",
       "                                       ('multi', MultinomialNB())]),\n",
       "             param_grid={'cvec__max_df': [0.9], 'cvec__max_features': [4000],\n",
       "                         'cvec__min_df': [3], 'cvec__ngram_range': [(1, 2)]})"
      ]
     },
     "execution_count": 41,
     "metadata": {},
     "output_type": "execute_result"
    }
   ],
   "source": [
    "# Fitting the model\n",
    "pipe_cv_mnb = Pipeline(steps=[('cvec', CountVectorizer()),\n",
    "                                  ('multi', MultinomialNB())])\n",
    "\n",
    "pipe_cv_mnb_params = {'cvec__max_features':[4000], #2000, 3000, 4000, 5000\n",
    "                         'cvec__min_df':[3], #2, 3\n",
    "                         'cvec__max_df':[.90], #.90, .95\n",
    "                         'cvec__ngram_range':[(1,2)]} #(1,1),(1,2),(2,2)\n",
    "\n",
    "gs_cv_mnb = GridSearchCV(pipe_cv_mnb, param_grid=pipe_cv_mnb_params, cv=5)\n",
    "\n",
    "gs_cv_mnb.fit(X_train, y_train)\n"
   ]
  },
  {
   "cell_type": "code",
   "execution_count": 42,
   "id": "0361a344",
   "metadata": {},
   "outputs": [],
   "source": [
    "# Making predictions\n",
    "y_pred_cv_mnb_train = gs_cv_mnb.predict(X_train)\n",
    "y_pred_cv_mnb = gs_cv_mnb.predict(X_test)"
   ]
  },
  {
   "cell_type": "code",
   "execution_count": 43,
   "id": "d32c16f1",
   "metadata": {},
   "outputs": [
    {
     "name": "stdout",
     "output_type": "stream",
     "text": [
      "The f1 train score for model 8 is 0.932.\n",
      "The f1 test score for model 8 is 0.893.\n"
     ]
    }
   ],
   "source": [
    "# Metrics\n",
    "binary_f1_train = f1_score(y_train, y_pred_cv_mnb_train, average='binary')\n",
    "binary_f1 = f1_score(y_test, y_pred_cv_mnb, average='binary')\n",
    "\n",
    "print(f'The f1 train score for model 8 is {binary_f1_train:.3f}.')\n",
    "print(f'The f1 test score for model 8 is {binary_f1:.3f}.')"
   ]
  },
  {
   "cell_type": "markdown",
   "id": "709ed2fd",
   "metadata": {},
   "source": [
    "### 9. CountVectorizer-Gaussian NB"
   ]
  },
  {
   "cell_type": "markdown",
   "id": "fe622f19",
   "metadata": {},
   "source": [
    "<a id='cv_gnb'></a>"
   ]
  },
  {
   "cell_type": "code",
   "execution_count": 44,
   "id": "e7609e5b",
   "metadata": {},
   "outputs": [
    {
     "data": {
      "text/html": [
       "<style>#sk-container-id-10 {color: black;background-color: white;}#sk-container-id-10 pre{padding: 0;}#sk-container-id-10 div.sk-toggleable {background-color: white;}#sk-container-id-10 label.sk-toggleable__label {cursor: pointer;display: block;width: 100%;margin-bottom: 0;padding: 0.3em;box-sizing: border-box;text-align: center;}#sk-container-id-10 label.sk-toggleable__label-arrow:before {content: \"▸\";float: left;margin-right: 0.25em;color: #696969;}#sk-container-id-10 label.sk-toggleable__label-arrow:hover:before {color: black;}#sk-container-id-10 div.sk-estimator:hover label.sk-toggleable__label-arrow:before {color: black;}#sk-container-id-10 div.sk-toggleable__content {max-height: 0;max-width: 0;overflow: hidden;text-align: left;background-color: #f0f8ff;}#sk-container-id-10 div.sk-toggleable__content pre {margin: 0.2em;color: black;border-radius: 0.25em;background-color: #f0f8ff;}#sk-container-id-10 input.sk-toggleable__control:checked~div.sk-toggleable__content {max-height: 200px;max-width: 100%;overflow: auto;}#sk-container-id-10 input.sk-toggleable__control:checked~label.sk-toggleable__label-arrow:before {content: \"▾\";}#sk-container-id-10 div.sk-estimator input.sk-toggleable__control:checked~label.sk-toggleable__label {background-color: #d4ebff;}#sk-container-id-10 div.sk-label input.sk-toggleable__control:checked~label.sk-toggleable__label {background-color: #d4ebff;}#sk-container-id-10 input.sk-hidden--visually {border: 0;clip: rect(1px 1px 1px 1px);clip: rect(1px, 1px, 1px, 1px);height: 1px;margin: -1px;overflow: hidden;padding: 0;position: absolute;width: 1px;}#sk-container-id-10 div.sk-estimator {font-family: monospace;background-color: #f0f8ff;border: 1px dotted black;border-radius: 0.25em;box-sizing: border-box;margin-bottom: 0.5em;}#sk-container-id-10 div.sk-estimator:hover {background-color: #d4ebff;}#sk-container-id-10 div.sk-parallel-item::after {content: \"\";width: 100%;border-bottom: 1px solid gray;flex-grow: 1;}#sk-container-id-10 div.sk-label:hover label.sk-toggleable__label {background-color: #d4ebff;}#sk-container-id-10 div.sk-serial::before {content: \"\";position: absolute;border-left: 1px solid gray;box-sizing: border-box;top: 0;bottom: 0;left: 50%;z-index: 0;}#sk-container-id-10 div.sk-serial {display: flex;flex-direction: column;align-items: center;background-color: white;padding-right: 0.2em;padding-left: 0.2em;position: relative;}#sk-container-id-10 div.sk-item {position: relative;z-index: 1;}#sk-container-id-10 div.sk-parallel {display: flex;align-items: stretch;justify-content: center;background-color: white;position: relative;}#sk-container-id-10 div.sk-item::before, #sk-container-id-10 div.sk-parallel-item::before {content: \"\";position: absolute;border-left: 1px solid gray;box-sizing: border-box;top: 0;bottom: 0;left: 50%;z-index: -1;}#sk-container-id-10 div.sk-parallel-item {display: flex;flex-direction: column;z-index: 1;position: relative;background-color: white;}#sk-container-id-10 div.sk-parallel-item:first-child::after {align-self: flex-end;width: 50%;}#sk-container-id-10 div.sk-parallel-item:last-child::after {align-self: flex-start;width: 50%;}#sk-container-id-10 div.sk-parallel-item:only-child::after {width: 0;}#sk-container-id-10 div.sk-dashed-wrapped {border: 1px dashed gray;margin: 0 0.4em 0.5em 0.4em;box-sizing: border-box;padding-bottom: 0.4em;background-color: white;}#sk-container-id-10 div.sk-label label {font-family: monospace;font-weight: bold;display: inline-block;line-height: 1.2em;}#sk-container-id-10 div.sk-label-container {text-align: center;}#sk-container-id-10 div.sk-container {/* jupyter's `normalize.less` sets `[hidden] { display: none; }` but bootstrap.min.css set `[hidden] { display: none !important; }` so we also need the `!important` here to be able to override the default hidden behavior on the sphinx rendered scikit-learn.org. See: https://github.com/scikit-learn/scikit-learn/issues/21755 */display: inline-block !important;position: relative;}#sk-container-id-10 div.sk-text-repr-fallback {display: none;}</style><div id=\"sk-container-id-10\" class=\"sk-top-container\"><div class=\"sk-text-repr-fallback\"><pre>GridSearchCV(cv=5,\n",
       "             estimator=Pipeline(steps=[(&#x27;cvec&#x27;, CountVectorizer()),\n",
       "                                       (&#x27;sparse_to_dense&#x27;,\n",
       "                                        FunctionTransformer(accept_sparse=True,\n",
       "                                                            func=&lt;function &lt;lambda&gt; at 0x17676dd80&gt;)),\n",
       "                                       (&#x27;gaus&#x27;, GaussianNB())]),\n",
       "             param_grid={&#x27;cvec__max_df&#x27;: [0.9], &#x27;cvec__max_features&#x27;: [4000],\n",
       "                         &#x27;cvec__min_df&#x27;: [3], &#x27;cvec__ngram_range&#x27;: [(1, 2)]})</pre><b>In a Jupyter environment, please rerun this cell to show the HTML representation or trust the notebook. <br />On GitHub, the HTML representation is unable to render, please try loading this page with nbviewer.org.</b></div><div class=\"sk-container\" hidden><div class=\"sk-item sk-dashed-wrapped\"><div class=\"sk-label-container\"><div class=\"sk-label sk-toggleable\"><input class=\"sk-toggleable__control sk-hidden--visually\" id=\"sk-estimator-id-35\" type=\"checkbox\" ><label for=\"sk-estimator-id-35\" class=\"sk-toggleable__label sk-toggleable__label-arrow\">GridSearchCV</label><div class=\"sk-toggleable__content\"><pre>GridSearchCV(cv=5,\n",
       "             estimator=Pipeline(steps=[(&#x27;cvec&#x27;, CountVectorizer()),\n",
       "                                       (&#x27;sparse_to_dense&#x27;,\n",
       "                                        FunctionTransformer(accept_sparse=True,\n",
       "                                                            func=&lt;function &lt;lambda&gt; at 0x17676dd80&gt;)),\n",
       "                                       (&#x27;gaus&#x27;, GaussianNB())]),\n",
       "             param_grid={&#x27;cvec__max_df&#x27;: [0.9], &#x27;cvec__max_features&#x27;: [4000],\n",
       "                         &#x27;cvec__min_df&#x27;: [3], &#x27;cvec__ngram_range&#x27;: [(1, 2)]})</pre></div></div></div><div class=\"sk-parallel\"><div class=\"sk-parallel-item\"><div class=\"sk-item\"><div class=\"sk-label-container\"><div class=\"sk-label sk-toggleable\"><input class=\"sk-toggleable__control sk-hidden--visually\" id=\"sk-estimator-id-36\" type=\"checkbox\" ><label for=\"sk-estimator-id-36\" class=\"sk-toggleable__label sk-toggleable__label-arrow\">estimator: Pipeline</label><div class=\"sk-toggleable__content\"><pre>Pipeline(steps=[(&#x27;cvec&#x27;, CountVectorizer()),\n",
       "                (&#x27;sparse_to_dense&#x27;,\n",
       "                 FunctionTransformer(accept_sparse=True,\n",
       "                                     func=&lt;function &lt;lambda&gt; at 0x17676dd80&gt;)),\n",
       "                (&#x27;gaus&#x27;, GaussianNB())])</pre></div></div></div><div class=\"sk-serial\"><div class=\"sk-item\"><div class=\"sk-serial\"><div class=\"sk-item\"><div class=\"sk-estimator sk-toggleable\"><input class=\"sk-toggleable__control sk-hidden--visually\" id=\"sk-estimator-id-37\" type=\"checkbox\" ><label for=\"sk-estimator-id-37\" class=\"sk-toggleable__label sk-toggleable__label-arrow\">CountVectorizer</label><div class=\"sk-toggleable__content\"><pre>CountVectorizer()</pre></div></div></div><div class=\"sk-item\"><div class=\"sk-estimator sk-toggleable\"><input class=\"sk-toggleable__control sk-hidden--visually\" id=\"sk-estimator-id-38\" type=\"checkbox\" ><label for=\"sk-estimator-id-38\" class=\"sk-toggleable__label sk-toggleable__label-arrow\">FunctionTransformer</label><div class=\"sk-toggleable__content\"><pre>FunctionTransformer(accept_sparse=True, func=&lt;function &lt;lambda&gt; at 0x17676dd80&gt;)</pre></div></div></div><div class=\"sk-item\"><div class=\"sk-estimator sk-toggleable\"><input class=\"sk-toggleable__control sk-hidden--visually\" id=\"sk-estimator-id-39\" type=\"checkbox\" ><label for=\"sk-estimator-id-39\" class=\"sk-toggleable__label sk-toggleable__label-arrow\">GaussianNB</label><div class=\"sk-toggleable__content\"><pre>GaussianNB()</pre></div></div></div></div></div></div></div></div></div></div></div></div>"
      ],
      "text/plain": [
       "GridSearchCV(cv=5,\n",
       "             estimator=Pipeline(steps=[('cvec', CountVectorizer()),\n",
       "                                       ('sparse_to_dense',\n",
       "                                        FunctionTransformer(accept_sparse=True,\n",
       "                                                            func=<function <lambda> at 0x17676dd80>)),\n",
       "                                       ('gaus', GaussianNB())]),\n",
       "             param_grid={'cvec__max_df': [0.9], 'cvec__max_features': [4000],\n",
       "                         'cvec__min_df': [3], 'cvec__ngram_range': [(1, 2)]})"
      ]
     },
     "execution_count": 44,
     "metadata": {},
     "output_type": "execute_result"
    }
   ],
   "source": [
    "# Fitting the model\n",
    "sparse_to_dense = FunctionTransformer(lambda x: x.toarray(), accept_sparse=True)\n",
    "\n",
    "pipe_cv_gnb = Pipeline(steps=[('cvec', CountVectorizer()),\n",
    "                                 ('sparse_to_dense', sparse_to_dense),\n",
    "                                 ('gaus', GaussianNB())])\n",
    "\n",
    "pipe_cv_gnb_params = {'cvec__max_features':[4000], #2000, 3000, 4000, 5000\n",
    "                         'cvec__min_df':[3], #2, 3\n",
    "                         'cvec__max_df':[.90], #.90, .95\n",
    "                         'cvec__ngram_range':[(1,2)]} #(1,1), (1,2), (2,2)\n",
    "\n",
    "gs_cv_gnb = GridSearchCV(pipe_cv_gnb, param_grid=pipe_cv_gnb_params, cv=5)\n",
    "\n",
    "gs_cv_gnb.fit(X_train, y_train)\n"
   ]
  },
  {
   "cell_type": "code",
   "execution_count": 45,
   "id": "a4efb4a0",
   "metadata": {},
   "outputs": [],
   "source": [
    "# Making predictions\n",
    "y_pred_cv_gnb_train = gs_cv_gnb.predict(X_train)\n",
    "y_pred_cv_gnb = gs_cv_gnb.predict(X_test)"
   ]
  },
  {
   "cell_type": "code",
   "execution_count": 46,
   "id": "a82c6560",
   "metadata": {},
   "outputs": [
    {
     "name": "stdout",
     "output_type": "stream",
     "text": [
      "The f1 train score for model 9 is 0.959.\n",
      "The f1 test score for model 9 is 0.852.\n"
     ]
    }
   ],
   "source": [
    "# Metrics\n",
    "binary_f1_train = f1_score(y_train, y_pred_cv_gnb_train, average='binary')\n",
    "binary_f1 = f1_score(y_test, y_pred_cv_gnb, average='binary')\n",
    "\n",
    "print(f'The f1 train score for model 9 is {binary_f1_train:.3f}.')\n",
    "print(f'The f1 test score for model 9 is {binary_f1:.3f}.')"
   ]
  },
  {
   "cell_type": "markdown",
   "id": "622abe01",
   "metadata": {},
   "source": [
    "### 10. CountVectorizer-Logistic Regression"
   ]
  },
  {
   "cell_type": "markdown",
   "id": "b4b05511",
   "metadata": {},
   "source": [
    "<a id='cv_lr'></a>"
   ]
  },
  {
   "cell_type": "code",
   "execution_count": 47,
   "id": "42fb8712",
   "metadata": {},
   "outputs": [
    {
     "data": {
      "text/html": [
       "<style>#sk-container-id-11 {color: black;background-color: white;}#sk-container-id-11 pre{padding: 0;}#sk-container-id-11 div.sk-toggleable {background-color: white;}#sk-container-id-11 label.sk-toggleable__label {cursor: pointer;display: block;width: 100%;margin-bottom: 0;padding: 0.3em;box-sizing: border-box;text-align: center;}#sk-container-id-11 label.sk-toggleable__label-arrow:before {content: \"▸\";float: left;margin-right: 0.25em;color: #696969;}#sk-container-id-11 label.sk-toggleable__label-arrow:hover:before {color: black;}#sk-container-id-11 div.sk-estimator:hover label.sk-toggleable__label-arrow:before {color: black;}#sk-container-id-11 div.sk-toggleable__content {max-height: 0;max-width: 0;overflow: hidden;text-align: left;background-color: #f0f8ff;}#sk-container-id-11 div.sk-toggleable__content pre {margin: 0.2em;color: black;border-radius: 0.25em;background-color: #f0f8ff;}#sk-container-id-11 input.sk-toggleable__control:checked~div.sk-toggleable__content {max-height: 200px;max-width: 100%;overflow: auto;}#sk-container-id-11 input.sk-toggleable__control:checked~label.sk-toggleable__label-arrow:before {content: \"▾\";}#sk-container-id-11 div.sk-estimator input.sk-toggleable__control:checked~label.sk-toggleable__label {background-color: #d4ebff;}#sk-container-id-11 div.sk-label input.sk-toggleable__control:checked~label.sk-toggleable__label {background-color: #d4ebff;}#sk-container-id-11 input.sk-hidden--visually {border: 0;clip: rect(1px 1px 1px 1px);clip: rect(1px, 1px, 1px, 1px);height: 1px;margin: -1px;overflow: hidden;padding: 0;position: absolute;width: 1px;}#sk-container-id-11 div.sk-estimator {font-family: monospace;background-color: #f0f8ff;border: 1px dotted black;border-radius: 0.25em;box-sizing: border-box;margin-bottom: 0.5em;}#sk-container-id-11 div.sk-estimator:hover {background-color: #d4ebff;}#sk-container-id-11 div.sk-parallel-item::after {content: \"\";width: 100%;border-bottom: 1px solid gray;flex-grow: 1;}#sk-container-id-11 div.sk-label:hover label.sk-toggleable__label {background-color: #d4ebff;}#sk-container-id-11 div.sk-serial::before {content: \"\";position: absolute;border-left: 1px solid gray;box-sizing: border-box;top: 0;bottom: 0;left: 50%;z-index: 0;}#sk-container-id-11 div.sk-serial {display: flex;flex-direction: column;align-items: center;background-color: white;padding-right: 0.2em;padding-left: 0.2em;position: relative;}#sk-container-id-11 div.sk-item {position: relative;z-index: 1;}#sk-container-id-11 div.sk-parallel {display: flex;align-items: stretch;justify-content: center;background-color: white;position: relative;}#sk-container-id-11 div.sk-item::before, #sk-container-id-11 div.sk-parallel-item::before {content: \"\";position: absolute;border-left: 1px solid gray;box-sizing: border-box;top: 0;bottom: 0;left: 50%;z-index: -1;}#sk-container-id-11 div.sk-parallel-item {display: flex;flex-direction: column;z-index: 1;position: relative;background-color: white;}#sk-container-id-11 div.sk-parallel-item:first-child::after {align-self: flex-end;width: 50%;}#sk-container-id-11 div.sk-parallel-item:last-child::after {align-self: flex-start;width: 50%;}#sk-container-id-11 div.sk-parallel-item:only-child::after {width: 0;}#sk-container-id-11 div.sk-dashed-wrapped {border: 1px dashed gray;margin: 0 0.4em 0.5em 0.4em;box-sizing: border-box;padding-bottom: 0.4em;background-color: white;}#sk-container-id-11 div.sk-label label {font-family: monospace;font-weight: bold;display: inline-block;line-height: 1.2em;}#sk-container-id-11 div.sk-label-container {text-align: center;}#sk-container-id-11 div.sk-container {/* jupyter's `normalize.less` sets `[hidden] { display: none; }` but bootstrap.min.css set `[hidden] { display: none !important; }` so we also need the `!important` here to be able to override the default hidden behavior on the sphinx rendered scikit-learn.org. See: https://github.com/scikit-learn/scikit-learn/issues/21755 */display: inline-block !important;position: relative;}#sk-container-id-11 div.sk-text-repr-fallback {display: none;}</style><div id=\"sk-container-id-11\" class=\"sk-top-container\"><div class=\"sk-text-repr-fallback\"><pre>GridSearchCV(cv=3,\n",
       "             estimator=Pipeline(steps=[(&#x27;cvec&#x27;, CountVectorizer()),\n",
       "                                       (&#x27;logreg&#x27;,\n",
       "                                        LogisticRegression(solver=&#x27;liblinear&#x27;))]),\n",
       "             param_grid={&#x27;cvec__max_df&#x27;: [0.85], &#x27;cvec__max_features&#x27;: [5000],\n",
       "                         &#x27;cvec__min_df&#x27;: [3], &#x27;cvec__ngram_range&#x27;: [(1, 2)],\n",
       "                         &#x27;logreg__C&#x27;: [0.1], &#x27;logreg__penalty&#x27;: [&#x27;l2&#x27;]})</pre><b>In a Jupyter environment, please rerun this cell to show the HTML representation or trust the notebook. <br />On GitHub, the HTML representation is unable to render, please try loading this page with nbviewer.org.</b></div><div class=\"sk-container\" hidden><div class=\"sk-item sk-dashed-wrapped\"><div class=\"sk-label-container\"><div class=\"sk-label sk-toggleable\"><input class=\"sk-toggleable__control sk-hidden--visually\" id=\"sk-estimator-id-40\" type=\"checkbox\" ><label for=\"sk-estimator-id-40\" class=\"sk-toggleable__label sk-toggleable__label-arrow\">GridSearchCV</label><div class=\"sk-toggleable__content\"><pre>GridSearchCV(cv=3,\n",
       "             estimator=Pipeline(steps=[(&#x27;cvec&#x27;, CountVectorizer()),\n",
       "                                       (&#x27;logreg&#x27;,\n",
       "                                        LogisticRegression(solver=&#x27;liblinear&#x27;))]),\n",
       "             param_grid={&#x27;cvec__max_df&#x27;: [0.85], &#x27;cvec__max_features&#x27;: [5000],\n",
       "                         &#x27;cvec__min_df&#x27;: [3], &#x27;cvec__ngram_range&#x27;: [(1, 2)],\n",
       "                         &#x27;logreg__C&#x27;: [0.1], &#x27;logreg__penalty&#x27;: [&#x27;l2&#x27;]})</pre></div></div></div><div class=\"sk-parallel\"><div class=\"sk-parallel-item\"><div class=\"sk-item\"><div class=\"sk-label-container\"><div class=\"sk-label sk-toggleable\"><input class=\"sk-toggleable__control sk-hidden--visually\" id=\"sk-estimator-id-41\" type=\"checkbox\" ><label for=\"sk-estimator-id-41\" class=\"sk-toggleable__label sk-toggleable__label-arrow\">estimator: Pipeline</label><div class=\"sk-toggleable__content\"><pre>Pipeline(steps=[(&#x27;cvec&#x27;, CountVectorizer()),\n",
       "                (&#x27;logreg&#x27;, LogisticRegression(solver=&#x27;liblinear&#x27;))])</pre></div></div></div><div class=\"sk-serial\"><div class=\"sk-item\"><div class=\"sk-serial\"><div class=\"sk-item\"><div class=\"sk-estimator sk-toggleable\"><input class=\"sk-toggleable__control sk-hidden--visually\" id=\"sk-estimator-id-42\" type=\"checkbox\" ><label for=\"sk-estimator-id-42\" class=\"sk-toggleable__label sk-toggleable__label-arrow\">CountVectorizer</label><div class=\"sk-toggleable__content\"><pre>CountVectorizer()</pre></div></div></div><div class=\"sk-item\"><div class=\"sk-estimator sk-toggleable\"><input class=\"sk-toggleable__control sk-hidden--visually\" id=\"sk-estimator-id-43\" type=\"checkbox\" ><label for=\"sk-estimator-id-43\" class=\"sk-toggleable__label sk-toggleable__label-arrow\">LogisticRegression</label><div class=\"sk-toggleable__content\"><pre>LogisticRegression(solver=&#x27;liblinear&#x27;)</pre></div></div></div></div></div></div></div></div></div></div></div></div>"
      ],
      "text/plain": [
       "GridSearchCV(cv=3,\n",
       "             estimator=Pipeline(steps=[('cvec', CountVectorizer()),\n",
       "                                       ('logreg',\n",
       "                                        LogisticRegression(solver='liblinear'))]),\n",
       "             param_grid={'cvec__max_df': [0.85], 'cvec__max_features': [5000],\n",
       "                         'cvec__min_df': [3], 'cvec__ngram_range': [(1, 2)],\n",
       "                         'logreg__C': [0.1], 'logreg__penalty': ['l2']})"
      ]
     },
     "execution_count": 47,
     "metadata": {},
     "output_type": "execute_result"
    }
   ],
   "source": [
    "# Fitting the model\n",
    "pipe_cv_lr = Pipeline(steps=[('cvec', CountVectorizer()),\n",
    "                               ('logreg', LogisticRegression(solver='liblinear'))])\n",
    "\n",
    "pipe_cv_lr_params = {'cvec__max_features':[5000], #2000, 3000, 4000, 5000\n",
    "                       'cvec__min_df':[3], #2, 3\n",
    "                       'cvec__max_df':[.85], #.85, .90, .95\n",
    "                       'cvec__ngram_range':[(1,2)], #(1,1), (1,2), (1,3), (2,2)\n",
    "                       'logreg__C': [0.1], #0.05, 0.1, 1\n",
    "                       'logreg__penalty': ['l2']} #'l1', 'l2'\n",
    "\n",
    "gs_cv_lr = GridSearchCV(pipe_cv_lr, param_grid=pipe_cv_lr_params, cv=3)\n",
    "\n",
    "gs_cv_lr.fit(X_train, y_train)\n"
   ]
  },
  {
   "cell_type": "code",
   "execution_count": 48,
   "id": "10ead275",
   "metadata": {
    "scrolled": true
   },
   "outputs": [],
   "source": [
    "# Making predictions\n",
    "y_pred_cv_lr_train = gs_cv_lr.predict(X_train)\n",
    "y_pred_cv_lr = gs_cv_lr.predict(X_test)\n",
    "y_pred_proba_cv_lr = gs_cv_lr.predict_proba(X_test)\n"
   ]
  },
  {
   "cell_type": "code",
   "execution_count": 49,
   "id": "4d4e15c1",
   "metadata": {
    "scrolled": true
   },
   "outputs": [
    {
     "name": "stdout",
     "output_type": "stream",
     "text": [
      "The f1 train score for model 10 is 0.994.\n",
      "The f1 test score for model 10 is 0.929.\n"
     ]
    }
   ],
   "source": [
    "# Metrics\n",
    "binary_f1_train = f1_score(y_train, y_pred_cv_lr_train, average='binary')\n",
    "binary_f1 = f1_score(y_test, y_pred_cv_lr, average='binary')\n",
    "\n",
    "print(f'The f1 train score for model 10 is {binary_f1_train:.3f}.')\n",
    "print(f'The f1 test score for model 10 is {binary_f1:.3f}.')"
   ]
  },
  {
   "cell_type": "markdown",
   "id": "6abc8e4f",
   "metadata": {},
   "source": [
    "### Summary"
   ]
  },
  {
   "cell_type": "markdown",
   "id": "8cff9430",
   "metadata": {},
   "source": [
    "<a id='summary'></a>"
   ]
  },
  {
   "cell_type": "markdown",
   "id": "84010c78",
   "metadata": {},
   "source": [
    "|Model|Train f1 Score|Test f1 Score|\n",
    "|:-|:-:|:-:|\n",
    "|<b>Word2Vec - Logistic Regression (Baseline)</b>|<b>NA</b>|<b>0.653</b>|\n",
    "|TfidVectorizer - KNNeighbors|0.859|0.881|\n",
    "|TfidVectorizer - Bernoulli Naive Bayes|0.927|0.881|\n",
    "|TfidVectorizer - Multinomial Naive Bayes|0.923|0.828|\n",
    "|TfidVectorizer - Gaussian Naive Bayes|0.963|0.820|\n",
    "|TfidVectorizer - Logistic Regression|0.974|0.923|\n",
    "|CountVectorizer - KNNeighbors|1.000|0.750|\n",
    "|CountVectorizer - Bernoulli Naive Bayes|0.841|0.813|\n",
    "|CountVectorizer - Multinomial Naive Bayes|0.932|0.893|\n",
    "|CountVectorizer - Gaussian Naive Bayes|0.959|0.852|\n",
    "|<b>CountVectorizer - Logistic Regression</b>|<b>0.994</b>|<b>0.929</b>|\n"
   ]
  },
  {
   "cell_type": "markdown",
   "id": "46d80b9c",
   "metadata": {},
   "source": [
    "We saw an improvement of 43.1% from the baseline model. "
   ]
  },
  {
   "cell_type": "markdown",
   "id": "31950c09",
   "metadata": {},
   "source": [
    "[Back to top of modelling section](#modelling)"
   ]
  },
  {
   "cell_type": "markdown",
   "id": "4c76aa4d",
   "metadata": {},
   "source": [
    "## 5. Insights"
   ]
  },
  {
   "cell_type": "markdown",
   "id": "b650da03",
   "metadata": {},
   "source": [
    "<a id='insights'></a>"
   ]
  },
  {
   "cell_type": "markdown",
   "id": "617f494b",
   "metadata": {},
   "source": [
    "### Contents - Insights\n",
    "[A. Feature Importance](#feature)<br>\n",
    "[B. Confusion Matrix](#cm)<br>\n",
    "[C. ROC AUC](#roc_auc)<br>\n"
   ]
  },
  {
   "cell_type": "markdown",
   "id": "dd0b8f4d",
   "metadata": {},
   "source": [
    "### A. Feature Importance"
   ]
  },
  {
   "cell_type": "markdown",
   "id": "ecd09d46",
   "metadata": {},
   "source": [
    "<a id='feature'></a>"
   ]
  },
  {
   "cell_type": "code",
   "execution_count": 50,
   "id": "30ee308c",
   "metadata": {
    "scrolled": false
   },
   "outputs": [],
   "source": [
    "coef = gs_cv_lr.best_estimator_['logreg'].coef_[0]\n",
    "# print(coef)\n",
    "\n",
    "features = gs_cv_lr.best_estimator_['cvec'].get_feature_names_out()\n",
    "# print(features)\n",
    "\n",
    "# Create a DataFrame for feature importance\n",
    "feature_importance = pd.DataFrame({'Features': features, 'Importance': coef})\n",
    "\n",
    "# Select the top 20 and bottom 20 features\n",
    "top_features = feature_importance.nlargest(30, 'Importance')\n",
    "bottom_features = feature_importance.nsmallest(30, 'Importance')\n",
    "\n",
    "# Concatenate the top and bottom features\n",
    "selected_features = pd.concat([top_features, bottom_features])\n",
    "\n",
    "# Sort the features by importance\n",
    "selected_features = selected_features.sort_values('Importance', ascending=True)\n",
    "\n"
   ]
  },
  {
   "cell_type": "code",
   "execution_count": 52,
   "id": "02ac409d",
   "metadata": {},
   "outputs": [],
   "source": [
    "# using a custom colour map because we agreed that keto = blue and paleo = orange\n",
    "# beware that running this more than once will cause an error\n",
    "ketopaleomap = sns.diverging_palette(240, 40, l=70, center=\"dark\", as_cmap = True)\n",
    "plt.colormaps.register(name='ketopaleo', cmap=ketopaleomap)\n",
    "cpal = sns.color_palette('ketopaleo', n_colors=64, desat=1)"
   ]
  },
  {
   "cell_type": "code",
   "execution_count": 53,
   "id": "38cd6610",
   "metadata": {},
   "outputs": [
    {
     "data": {
      "image/png": "[encoded data removed]",
      "text/plain": [
       "<Figure size 1200x1200 with 1 Axes>"
      ]
     },
     "metadata": {},
     "output_type": "display_data"
    }
   ],
   "source": [
    "# Plot the selected features\n",
    "\n",
    "plt.rcParams['figure.figsize'] = (12,12)\n",
    "sns.barplot(data=selected_features.sort_values(by='Importance'), x='Importance',y='Features',orient='h',\n",
    "            palette='ketopaleo')\n",
    "\n",
    "plt.savefig('../images/feature.png', transparent=True)"
   ]
  },
  {
   "cell_type": "code",
   "execution_count": null,
   "id": "4f09faa4",
   "metadata": {},
   "outputs": [],
   "source": [
    "# rebuild production model outside of the pipeline using hyperparameters from GridSearch\n",
    "prod_cv = CountVectorizer(max_features = 5000, min_df = 3, max_df = .85, ngram_range = (1,2))\n",
    "prod_X_train = prod_cv.fit_transform(X_train).toarray() \n",
    "prod_X_test = prod_cv.transform(X_test).toarray()"
   ]
  },
  {
   "cell_type": "code",
   "execution_count": null,
   "id": "6597c1b5",
   "metadata": {
    "scrolled": true
   },
   "outputs": [],
   "source": [
    "prod_train_df = pd.DataFrame(prod_X_train)\n",
    "prod_train_df.columns = features\n"
   ]
  },
  {
   "cell_type": "code",
   "execution_count": null,
   "id": "6abb8176",
   "metadata": {},
   "outputs": [],
   "source": [
    "prod_lr = LogisticRegression(C = 0.1, penalty = 'l2')\n",
    "\n",
    "prod_model_full = prod_lr.fit(prod_train_df, y_train)"
   ]
  },
  {
   "cell_type": "code",
   "execution_count": null,
   "id": "867e112c",
   "metadata": {},
   "outputs": [],
   "source": [
    "# explain the model's predictions using SHAP\n",
    "\n",
    "explainer = shap.KernelExplainer(prod_lr.predict_proba, shap.sample(prod_train_df,10))\n",
    "shap_values = explainer.shap_values(shap.sample(prod_train_df,10))"
   ]
  },
  {
   "cell_type": "code",
   "execution_count": null,
   "id": "463e06f3",
   "metadata": {
    "scrolled": false
   },
   "outputs": [],
   "source": [
    "# visualise the first prediction's explanation \n",
    "shap.initjs()\n",
    "shap.summary_plot(shap_values[1], shap.sample(prod_train_df,10))\n",
    "fig1 = shap.summary_plot(shap_values, show=False, plot_type=\"bar\", plot_size=(10, 10))\n"
   ]
  },
  {
   "cell_type": "code",
   "execution_count": null,
   "id": "a953879c",
   "metadata": {},
   "outputs": [],
   "source": [
    "# visualise the first prediction's explanation \n",
    "shap.initjs()\n",
    "shap.force_plot(explainer.expected_value[1], shap_values[0], shap.sample(prod_train_df,10))\n",
    "\n"
   ]
  },
  {
   "cell_type": "markdown",
   "id": "6797b282",
   "metadata": {},
   "source": [
    "### B. Confusion Matrix"
   ]
  },
  {
   "cell_type": "markdown",
   "id": "2c87e287",
   "metadata": {},
   "source": [
    "<a id='cm'></a>"
   ]
  },
  {
   "cell_type": "code",
   "execution_count": null,
   "id": "3083a68a",
   "metadata": {},
   "outputs": [],
   "source": [
    "test_accuracy = accuracy_score(y_test,y_pred_cv_lr)\n",
    "precision = precision_score(y_test, y_pred_cv_lr)\n",
    "recall = recall_score(y_test, y_pred_cv_lr)"
   ]
  },
  {
   "cell_type": "code",
   "execution_count": null,
   "id": "efd61e0f",
   "metadata": {},
   "outputs": [],
   "source": [
    "# Visualizing the confusion matrix\n",
    "cm = confusion_matrix(y_test, y_pred_cv_lr)\n",
    "modified_cm = []\n",
    "for index,value in enumerate(cm):\n",
    "    if index == 0:\n",
    "        modified_cm.append(['TN = ' + str(value[0]), 'FP = ' + str(value[1])])\n",
    "    if index == 1:\n",
    "        modified_cm.append(['FN = ' + str(value[0]), 'TP = ' + str(value[1])])\n",
    "plt.figure(figsize=(9,9))\n",
    "sns.heatmap(cm, annot=modified_cm,\n",
    "            fmt='',\n",
    "            annot_kws={\"size\": 12},\n",
    "            linewidths=0.5,\n",
    "            square=True,\n",
    "            xticklabels = ['Keto', 'Paleo'],\n",
    "            yticklabels = ['Keto', 'Paleo'],\n",
    "            cmap='Blues')\n",
    "plt.ylabel('Actual label', fontsize=15)\n",
    "plt.xlabel('Predicted label', fontsize=15)\n",
    "plt.title('Accuracy Score: {:.3f}'.format(test_accuracy) + '\\n'\n",
    "          + 'Precision: {:.3f}'.format(precision) + '\\n'\n",
    "          + 'Recall: {:.3f}'.format(recall) +'\\n', size=15)\n",
    "plt.tick_params(labelsize=12)\n",
    "\n",
    "plt.savefig('../images/confusionmatrix.png', transparent=True)"
   ]
  },
  {
   "cell_type": "markdown",
   "id": "493deac7",
   "metadata": {},
   "source": [
    "### C. ROC-AUC "
   ]
  },
  {
   "cell_type": "markdown",
   "id": "a8667197",
   "metadata": {},
   "source": [
    "<a id='roc_auc'></a>"
   ]
  },
  {
   "cell_type": "code",
   "execution_count": null,
   "id": "56341fb0",
   "metadata": {},
   "outputs": [],
   "source": [
    "# plot roc curve\n",
    "# The ROC curve is a plot of the True Positive Rate (sensitivity) vs. the False Positive Rate (1 - specificity)\n",
    "# for all possible decision thresholds\n",
    "roc_display = RocCurveDisplay.from_estimator(gs_cv_lr, X_test,y_test)\n",
    "plt.plot([0,1],[0,1],label='baseline',linestyle='--')\n",
    "\n",
    "plt.savefig('../images/rocauc.png', transparent=True)"
   ]
  },
  {
   "cell_type": "markdown",
   "id": "8abc6189",
   "metadata": {},
   "source": [
    "### Summary"
   ]
  },
  {
   "cell_type": "markdown",
   "id": "fbde92c4",
   "metadata": {},
   "source": [
    "1) <b>Differing Focus</b>\n",
    "- The two communities exhibit distinct priorities, with the Keto community placing significant emphasis on macronutrient composition and micronutrients, whereas the Paleo community directs its attention towards ingredient choices.\n",
    "\n",
    "2) <b>Shared Themes</b>\n",
    "- The prevalence of the terms ‘weight loss’ and ‘low carb’ in both communities suggests that weight management and adopting a low-carbohydrate dietary approach are central themes and objectives within both communities.\n",
    "\n",
    "3) <b>Navigating Uncertainty</b>\n",
    "- Within both the Keto and Paleo communities, a considerable number of users express confusion regarding specific dietary details. The presence of confusion suggests that users may encounter challenges in understanding and implementing the intricate nuances associated with these dietary approaches."
   ]
  },
  {
   "cell_type": "markdown",
   "id": "fe08d2dd",
   "metadata": {},
   "source": [
    "## 6. Business Recommendations"
   ]
  },
  {
   "cell_type": "markdown",
   "id": "f17d78f9",
   "metadata": {},
   "source": [
    "<a id='biz_rec'></a>"
   ]
  },
  {
   "cell_type": "markdown",
   "id": "b5e7ea96",
   "metadata": {},
   "source": [
    "\n",
    "1) <b>Dynamic Tracking</b>\n",
    "- By utilizing our final binary classifier, we can conduct an in-depth analysis of the user's historical comments and reviews. Leveraging this analysis, our website will seamlessly generate personalized product recommendations, meticulously curated to match their distinctive requirements and preferences. By understanding their ever changing preferences, we can develop and suggest products that align with their individual, and evolving requirements, ensuring a more satisfying and customized experience. Our website can be found at: https://consumer-dietry-preferences-an-analysis.streamlit.app/ (Note: all products recommended are sample products)\n",
    "- Based on our insights, the Keto audience is likely to find products that offer convenient, high-fat, low-carb meal options attractive. We can focus on developing and promoting meals designed to include a combination of macronutrients in appropriate proportions, whilst incorporating a variety of nutrient-dense foods as well as supplements with a focus on micronutrients to ensure our customers are getting a wide range of essential vitamins, minerals, and antioxidants. \n",
    "- The Paleo audience on the other hand will find products using high-quality, unprocessed ingredients that are aligned with ancestral diet principles more appealing. Following this insight, we can place more emphasis on sourcing and recommending organically and locally grown produce, grass-fed meats, wild-caught fish, pasture-raised eggs, etc.\n",
    "\n",
    "2) <b>Broaden Appeal</b>\n",
    "- By capitalizing on shared interests, we can leverage it to enhance the appeal of each product, catering to a wider customer base:\n",
    "    \n",
    "    - Example 1: Whenever possible, develop and promote products specifically tailored to support weight loss and low-carb diets. This can include meal replacement options, low-carb snacks, dietary supplements, or specialized recipe ingredients. Ensuring that the nutritional content aligns with the needs of both Keto and Paleo practitioners will appeal to a broader customer base.\n",
    "        \n",
    "    - Example 2: Since both the Keto and Paleo communities are concerned about weight loss, it is imperative to ensure that all products bear conspicuous calorie labeling, both on physical packaging and online platforms. This measure is designed to streamline the caloric tracking process for customers, making it effortless to accurately monitor their calorie intake.\n",
    "        \n",
    "    - Example 3: We can capitalize on the current trending topics within each community as a means to expand our customer base. One such example is the 'Keto Month Challenge,' an initiative aimed at motivating individuals to adopt the ketogenic diet for a month. By offering guidance, resources, and support to participants throughout their journey, we have the opportunity to introduce and showcase our products to this target audience. Successfully converting individuals to the ketogenic diet can lead to a significant increase in our customer base.\n",
    "\n",
    "3) <b>Educational Content</b>\n",
    "- By taking advantage of the information-seeking behavior of both communities, an opportunity arises to consistently deliver compelling and relevant content. This, in turn, fosters customer loyalty and sustains an actively engaged customer base. \n",
    "\n",
    "- We can offer educational resources, comprehensive guides, and informative content to cater to the different communities. By crafting targeted marketing campaigns and messaging that highlight the macronutrient composition requirements and micronutrients concerns of the Keto community and ingredient selection preferences of the Paleo community, our business will be able to resonate with the respective audiences.\n",
    "\n",
    "- This can be accomplished through various mediums such as well-researched blog articles, instructive videos, and carefully curated recipes that not only elucidate the fundamental principles underlying these dietary approaches but also offer practical tips for successful implementation. \n",
    "\n"
   ]
  },
  {
   "cell_type": "markdown",
   "id": "370dd200",
   "metadata": {},
   "source": [
    "## 7. Conclusion"
   ]
  },
  {
   "cell_type": "markdown",
   "id": "0243900b",
   "metadata": {},
   "source": [
    "<a id='conclusion'></a>"
   ]
  },
  {
   "cell_type": "markdown",
   "id": "485b26d8",
   "metadata": {},
   "source": [
    "Upon revisiting the problem statement, we are reminded of our two primary objectives:\n",
    "\n",
    "1) <b>Objective 1</b>\n",
    "- Our first objective was to create a highly robust binary classifier with the ability to discern posts and content that are relevant to the Keto and Paleo diets. \n",
    "- With an impressive F1-Score of 0.93, our model empowers our company's product and marketing teams to accurately ascertain the needs and preferences of our valued clientele. This invaluable insight enables us to tailor our offerings in accordance with the evolving requirements of our customers. By adopting this data-driven and personalized marketing approach, we anticipate an elevation in customer satisfaction levels, leading to substantial business growth.\n",
    "\n",
    "2) <b>Objective 2</b>\n",
    "- Our second objective was to extract valuable insights pertaining to the characteristics and preferences of the Keto and Paleo communities. \n",
    "- Through meticulous analysis of the gathered data, we successfully identified crucial insights that have played a pivotal role in guiding our marketing initiatives and product. "
   ]
  },
  {
   "cell_type": "markdown",
   "id": "62381ad9",
   "metadata": {},
   "source": [
    "<b> End of Part III</b> "
   ]
  }
 ],
 "metadata": {
  "kernelspec": {
   "display_name": "Python 3 (ipykernel)",
   "language": "python",
   "name": "python3"
  },
  "language_info": {
   "codemirror_mode": {
    "name": "ipython",
    "version": 3
   },
   "file_extension": ".py",
   "mimetype": "text/x-python",
   "name": "python",
   "nbconvert_exporter": "python",
   "pygments_lexer": "ipython3",
   "version": "3.10.11"
  },
  "vp": {
   "vp_config_version": "1.0.0",
   "vp_menu_width": 273,
   "vp_note_display": false,
   "vp_note_width": 0,
   "vp_position": {
    "width": 278
   },
   "vp_section_display": false,
   "vp_signature": "VisualPython"
  }
 },
 "nbformat": 4,
 "nbformat_minor": 5
}
